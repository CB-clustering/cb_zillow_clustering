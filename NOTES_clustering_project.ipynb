{
 "cells": [
  {
   "cell_type": "markdown",
   "id": "37ca39b2",
   "metadata": {},
   "source": [
    "Are the lower average ages of the Orange and Ventura county homes dragging down their logerror (as in, lower MAPE (mean) causing overall mean to skew lower)?"
   ]
  },
  {
   "cell_type": "markdown",
   "id": "59479b23",
   "metadata": {},
   "source": [
    "Continue cleaning and prepping the data.  Add half baths feature.\n",
    "- age\n",
    "- sfpbath\n",
    "- sfproom\n",
    "- sfpbed\n",
    "- age!\n",
    "- etc"
   ]
  },
  {
   "cell_type": "code",
   "execution_count": null,
   "id": "492e2eea",
   "metadata": {},
   "outputs": [],
   "source": []
  }
 ],
 "metadata": {
  "kernelspec": {
   "display_name": "Python 3",
   "language": "python",
   "name": "python3"
  },
  "language_info": {
   "codemirror_mode": {
    "name": "ipython",
    "version": 3
   },
   "file_extension": ".py",
   "mimetype": "text/x-python",
   "name": "python",
   "nbconvert_exporter": "python",
   "pygments_lexer": "ipython3",
   "version": "3.8.8"
  }
 },
 "nbformat": 4,
 "nbformat_minor": 5
}
