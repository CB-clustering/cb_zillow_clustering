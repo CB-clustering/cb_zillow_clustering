{
 "cells": [
  {
   "cell_type": "markdown",
   "id": "37ca39b2",
   "metadata": {},
   "source": [
    "Are the lower average ages of the Orange and Ventura county homes dragging down their logerror (as in, lower MAPE (mean) causing overall mean to skew lower)?"
   ]
  },
  {
   "cell_type": "markdown",
   "id": "0591e895",
   "metadata": {},
   "source": [
    "# add.....\n",
    "- tax_rate\n",
    "- price_per_sq_ft"
   ]
  },
  {
   "cell_type": "markdown",
   "id": "59479b23",
   "metadata": {},
   "source": [
    "# FOR A FUTURE ITERATION:\n",
    "- add some feature engineering like in the curriculum example (acres_bins, structure_dollar_sq_ft, etc)\n",
    "- "
   ]
  },
  {
   "cell_type": "markdown",
   "id": "492e2eea",
   "metadata": {},
   "source": [
    "# FOR NOW, CLUSTER ON:\n",
    "- latitude, longitude, age\n",
    "- beds, baths, full_baths, sq_ft\n"
   ]
  }
 ],
 "metadata": {
  "kernelspec": {
   "display_name": "Python 3",
   "language": "python",
   "name": "python3"
  },
  "language_info": {
   "codemirror_mode": {
    "name": "ipython",
    "version": 3
   },
   "file_extension": ".py",
   "mimetype": "text/x-python",
   "name": "python",
   "nbconvert_exporter": "python",
   "pygments_lexer": "ipython3",
   "version": "3.8.8"
  }
 },
 "nbformat": 4,
 "nbformat_minor": 5
}
