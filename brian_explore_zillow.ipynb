{
 "cells": [
  {
   "cell_type": "code",
   "execution_count": 1,
   "id": "d0804ffe",
   "metadata": {},
   "outputs": [],
   "source": [
    "import pandas as pd\n",
    "import numpy as np\n",
    "import os\n",
    "from env import host, user, password\n",
    "from sklearn.impute import SimpleImputer\n",
    "import matplotlib.pyplot as plt\n",
    "from scipy import stats\n",
    "import seaborn as sns\n",
    "import env\n",
    "from sklearn.model_selection import train_test_split\n",
    "from sklearn.preprocessing import MinMaxScaler\n",
    "\n",
    "from sklearn.impute import SimpleImputer\n",
    "import scipy\n",
    "import sklearn.linear_model\n",
    "import sklearn.preprocessing\n",
    "import warnings\n",
    "warnings.filterwarnings(\"ignore\")\n",
    "import wrangle\n",
    "import viz_explore\n",
    "import scipy.stats as stats"
   ]
  },
  {
   "cell_type": "markdown",
   "id": "c8d9becb",
   "metadata": {},
   "source": [
    "### 1. Ask at least 5 questions about the data, keeping in mind that your target variable is logerror. e.g. Is logerror significantly different for properties in LA County vs Orange County vs Ventura County?\n",
    "\n",
    "### 2. Answer those questions through a mix of statistical tests and visualizations.\n",
    "\n",
    "### 3. Bonus: Compute the mean(logerror) by zipcode and the overall mean(logerror). Write a loop that will run a t-test between the overall mean and the mean for each zip code. We want to identify the zip codes where the error is significantly higher or lower than the expected error."
   ]
  },
  {
   "cell_type": "code",
   "execution_count": 2,
   "id": "2fe13bad",
   "metadata": {},
   "outputs": [],
   "source": [
    "# THE WRANGLE FUNCTION PERFORMS THE FOLLOWIN, IN BROAD STROKES:\n",
    "# 1. Get the data via SQL query\n",
    "# 2. Clean and prep the data\n",
    "# 3. Encode the appropriate columns (only ['county'] for now)\n",
    "# 4. Split the data: train, validate, test and X_ vs y_ splits as well\n",
    "# 5. Scale the data (all train, validate and test, and all X_ and y_ splits are scaled)\n",
    "\n",
    "df, train, validate, test, X_train, y_train, X_validate, y_validate, X_test, y_test, \\\n",
    "train_scaled, X_train_scaled, y_train_scaled, validate_scaled, X_validate_scaled, \\\n",
    "y_validate_scaled, test_scaled, X_test_scaled, y_test_scaled \\\n",
    "= wrangle.wrangle_zillow()\n"
   ]
  },
  {
   "cell_type": "code",
   "execution_count": 3,
   "id": "961581d0",
   "metadata": {},
   "outputs": [
    {
     "data": {
      "text/plain": [
       "(61427, 31)"
      ]
     },
     "execution_count": 3,
     "metadata": {},
     "output_type": "execute_result"
    }
   ],
   "source": [
    "df.shape"
   ]
  },
  {
   "cell_type": "code",
   "execution_count": 4,
   "id": "9e0894a7",
   "metadata": {},
   "outputs": [
    {
     "data": {
      "text/plain": [
       "parcelid                 int64\n",
       "bathrooms              float64\n",
       "bedrooms               float64\n",
       "condition              float64\n",
       "sq_ft                  float64\n",
       "full_baths             float64\n",
       "latitude               float64\n",
       "longitude              float64\n",
       "lot_size               float64\n",
       "census_tract           float64\n",
       "city_id                float64\n",
       "zip                    float64\n",
       "rooms                  float64\n",
       "structure_value        float64\n",
       "tax_value              float64\n",
       "year_assessed          float64\n",
       "land_value             float64\n",
       "tax_amount             float64\n",
       "logerror               float64\n",
       "county                  object\n",
       "age                    float64\n",
       "sq_ft_per_bathroom     float64\n",
       "sq_ft_per_bedroom      float64\n",
       "sq_ft_per_room         float64\n",
       "has_half_bath            int64\n",
       "age_bin               category\n",
       "tax_rate               float64\n",
       "price_per_sq_ft        float64\n",
       "Los_Angeles              uint8\n",
       "Orange                   uint8\n",
       "Ventura                  uint8\n",
       "dtype: object"
      ]
     },
     "execution_count": 4,
     "metadata": {},
     "output_type": "execute_result"
    }
   ],
   "source": [
    "df.dtypes"
   ]
  },
  {
   "cell_type": "code",
   "execution_count": 5,
   "id": "147b8651",
   "metadata": {
    "scrolled": false
   },
   "outputs": [],
   "source": [
    "# for col in df.columns:\n",
    "#     print(df[col].value_counts())"
   ]
  },
  {
   "cell_type": "markdown",
   "id": "9f38956b",
   "metadata": {},
   "source": [
    "There may be a few duplicated parcel ids"
   ]
  },
  {
   "cell_type": "code",
   "execution_count": 6,
   "id": "b30f8711",
   "metadata": {},
   "outputs": [
    {
     "data": {
      "text/plain": [
       "1     12647.0\n",
       "2      8432.0\n",
       "3     13038.0\n",
       "4    278581.0\n",
       "5       903.0\n",
       "Name: lot_size, dtype: float64"
      ]
     },
     "execution_count": 6,
     "metadata": {},
     "output_type": "execute_result"
    }
   ],
   "source": [
    "df.lot_size.head()"
   ]
  },
  {
   "cell_type": "code",
   "execution_count": 7,
   "id": "4e03cbb9",
   "metadata": {},
   "outputs": [
    {
     "data": {
      "text/html": [
       "<div>\n",
       "<style scoped>\n",
       "    .dataframe tbody tr th:only-of-type {\n",
       "        vertical-align: middle;\n",
       "    }\n",
       "\n",
       "    .dataframe tbody tr th {\n",
       "        vertical-align: top;\n",
       "    }\n",
       "\n",
       "    .dataframe thead th {\n",
       "        text-align: right;\n",
       "    }\n",
       "</style>\n",
       "<table border=\"1\" class=\"dataframe\">\n",
       "  <thead>\n",
       "    <tr style=\"text-align: right;\">\n",
       "      <th></th>\n",
       "      <th>0</th>\n",
       "      <th>1</th>\n",
       "      <th>2</th>\n",
       "      <th>3</th>\n",
       "      <th>4</th>\n",
       "    </tr>\n",
       "  </thead>\n",
       "  <tbody>\n",
       "    <tr>\n",
       "      <th>parcelid</th>\n",
       "      <td>0.022568</td>\n",
       "      <td>0.013471</td>\n",
       "      <td>0.001826</td>\n",
       "      <td>0.000313</td>\n",
       "      <td>0.042757</td>\n",
       "    </tr>\n",
       "    <tr>\n",
       "      <th>bathrooms</th>\n",
       "      <td>0.333333</td>\n",
       "      <td>0.333333</td>\n",
       "      <td>0.333333</td>\n",
       "      <td>0.000000</td>\n",
       "      <td>0.666667</td>\n",
       "    </tr>\n",
       "    <tr>\n",
       "      <th>bedrooms</th>\n",
       "      <td>0.800000</td>\n",
       "      <td>0.400000</td>\n",
       "      <td>0.200000</td>\n",
       "      <td>0.200000</td>\n",
       "      <td>0.600000</td>\n",
       "    </tr>\n",
       "    <tr>\n",
       "      <th>condition</th>\n",
       "      <td>0.454545</td>\n",
       "      <td>0.454545</td>\n",
       "      <td>0.636364</td>\n",
       "      <td>0.454545</td>\n",
       "      <td>0.454545</td>\n",
       "    </tr>\n",
       "    <tr>\n",
       "      <th>sq_ft</th>\n",
       "      <td>0.814802</td>\n",
       "      <td>0.312370</td>\n",
       "      <td>0.235233</td>\n",
       "      <td>0.222377</td>\n",
       "      <td>0.659138</td>\n",
       "    </tr>\n",
       "    <tr>\n",
       "      <th>full_baths</th>\n",
       "      <td>0.333333</td>\n",
       "      <td>0.333333</td>\n",
       "      <td>0.333333</td>\n",
       "      <td>0.000000</td>\n",
       "      <td>0.666667</td>\n",
       "    </tr>\n",
       "    <tr>\n",
       "      <th>latitude</th>\n",
       "      <td>0.388363</td>\n",
       "      <td>0.377198</td>\n",
       "      <td>0.616169</td>\n",
       "      <td>0.549232</td>\n",
       "      <td>0.635237</td>\n",
       "    </tr>\n",
       "    <tr>\n",
       "      <th>longitude</th>\n",
       "      <td>0.806060</td>\n",
       "      <td>0.760380</td>\n",
       "      <td>0.560645</td>\n",
       "      <td>0.415546</td>\n",
       "      <td>0.320844</td>\n",
       "    </tr>\n",
       "    <tr>\n",
       "      <th>lot_size</th>\n",
       "      <td>0.001600</td>\n",
       "      <td>0.000909</td>\n",
       "      <td>0.029919</td>\n",
       "      <td>0.000706</td>\n",
       "      <td>0.001086</td>\n",
       "    </tr>\n",
       "    <tr>\n",
       "      <th>census_tract</th>\n",
       "      <td>0.296321</td>\n",
       "      <td>0.005450</td>\n",
       "      <td>0.000013</td>\n",
       "      <td>0.009458</td>\n",
       "      <td>0.999979</td>\n",
       "    </tr>\n",
       "    <tr>\n",
       "      <th>city_id</th>\n",
       "      <td>0.054243</td>\n",
       "      <td>0.005022</td>\n",
       "      <td>0.022785</td>\n",
       "      <td>0.087001</td>\n",
       "      <td>0.060089</td>\n",
       "    </tr>\n",
       "    <tr>\n",
       "      <th>zip</th>\n",
       "      <td>0.779001</td>\n",
       "      <td>0.152717</td>\n",
       "      <td>0.288546</td>\n",
       "      <td>0.260646</td>\n",
       "      <td>0.834068</td>\n",
       "    </tr>\n",
       "    <tr>\n",
       "      <th>rooms</th>\n",
       "      <td>0.615658</td>\n",
       "      <td>0.000000</td>\n",
       "      <td>0.000000</td>\n",
       "      <td>0.000000</td>\n",
       "      <td>0.615658</td>\n",
       "    </tr>\n",
       "    <tr>\n",
       "      <th>structure_value</th>\n",
       "      <td>0.212751</td>\n",
       "      <td>0.124992</td>\n",
       "      <td>0.200717</td>\n",
       "      <td>0.154330</td>\n",
       "      <td>0.270884</td>\n",
       "    </tr>\n",
       "    <tr>\n",
       "      <th>tax_value</th>\n",
       "      <td>0.626629</td>\n",
       "      <td>0.244249</td>\n",
       "      <td>0.293470</td>\n",
       "      <td>0.617787</td>\n",
       "      <td>0.430894</td>\n",
       "    </tr>\n",
       "    <tr>\n",
       "      <th>year_assessed</th>\n",
       "      <td>0.000000</td>\n",
       "      <td>0.000000</td>\n",
       "      <td>0.000000</td>\n",
       "      <td>0.000000</td>\n",
       "      <td>0.000000</td>\n",
       "    </tr>\n",
       "    <tr>\n",
       "      <th>land_value</th>\n",
       "      <td>0.476164</td>\n",
       "      <td>0.155450</td>\n",
       "      <td>0.142771</td>\n",
       "      <td>0.515978</td>\n",
       "      <td>0.225680</td>\n",
       "    </tr>\n",
       "    <tr>\n",
       "      <th>tax_amount</th>\n",
       "      <td>0.644014</td>\n",
       "      <td>0.305471</td>\n",
       "      <td>0.329374</td>\n",
       "      <td>0.648074</td>\n",
       "      <td>0.458551</td>\n",
       "    </tr>\n",
       "    <tr>\n",
       "      <th>age</th>\n",
       "      <td>0.372263</td>\n",
       "      <td>0.445255</td>\n",
       "      <td>0.197080</td>\n",
       "      <td>0.372263</td>\n",
       "      <td>0.372263</td>\n",
       "    </tr>\n",
       "    <tr>\n",
       "      <th>sq_ft_per_bathroom</th>\n",
       "      <td>0.369744</td>\n",
       "      <td>0.122564</td>\n",
       "      <td>0.084615</td>\n",
       "      <td>0.249231</td>\n",
       "      <td>0.164558</td>\n",
       "    </tr>\n",
       "    <tr>\n",
       "      <th>sq_ft_per_bedroom</th>\n",
       "      <td>0.133000</td>\n",
       "      <td>0.091139</td>\n",
       "      <td>0.125237</td>\n",
       "      <td>0.118855</td>\n",
       "      <td>0.141021</td>\n",
       "    </tr>\n",
       "    <tr>\n",
       "      <th>sq_ft_per_room</th>\n",
       "      <td>0.132159</td>\n",
       "      <td>0.363787</td>\n",
       "      <td>0.292418</td>\n",
       "      <td>0.280523</td>\n",
       "      <td>0.103487</td>\n",
       "    </tr>\n",
       "    <tr>\n",
       "      <th>has_half_bath</th>\n",
       "      <td>0.000000</td>\n",
       "      <td>0.000000</td>\n",
       "      <td>0.000000</td>\n",
       "      <td>0.000000</td>\n",
       "      <td>0.000000</td>\n",
       "    </tr>\n",
       "    <tr>\n",
       "      <th>tax_rate</th>\n",
       "      <td>0.024563</td>\n",
       "      <td>0.029370</td>\n",
       "      <td>0.026479</td>\n",
       "      <td>0.025072</td>\n",
       "      <td>0.025303</td>\n",
       "    </tr>\n",
       "    <tr>\n",
       "      <th>price_per_sq_ft</th>\n",
       "      <td>0.094689</td>\n",
       "      <td>0.119572</td>\n",
       "      <td>0.233182</td>\n",
       "      <td>0.185919</td>\n",
       "      <td>0.144541</td>\n",
       "    </tr>\n",
       "    <tr>\n",
       "      <th>Los_Angeles</th>\n",
       "      <td>0.000000</td>\n",
       "      <td>1.000000</td>\n",
       "      <td>1.000000</td>\n",
       "      <td>1.000000</td>\n",
       "      <td>0.000000</td>\n",
       "    </tr>\n",
       "    <tr>\n",
       "      <th>Orange</th>\n",
       "      <td>1.000000</td>\n",
       "      <td>0.000000</td>\n",
       "      <td>0.000000</td>\n",
       "      <td>0.000000</td>\n",
       "      <td>0.000000</td>\n",
       "    </tr>\n",
       "    <tr>\n",
       "      <th>Ventura</th>\n",
       "      <td>0.000000</td>\n",
       "      <td>0.000000</td>\n",
       "      <td>0.000000</td>\n",
       "      <td>0.000000</td>\n",
       "      <td>1.000000</td>\n",
       "    </tr>\n",
       "  </tbody>\n",
       "</table>\n",
       "</div>"
      ],
      "text/plain": [
       "                           0         1         2         3         4\n",
       "parcelid            0.022568  0.013471  0.001826  0.000313  0.042757\n",
       "bathrooms           0.333333  0.333333  0.333333  0.000000  0.666667\n",
       "bedrooms            0.800000  0.400000  0.200000  0.200000  0.600000\n",
       "condition           0.454545  0.454545  0.636364  0.454545  0.454545\n",
       "sq_ft               0.814802  0.312370  0.235233  0.222377  0.659138\n",
       "full_baths          0.333333  0.333333  0.333333  0.000000  0.666667\n",
       "latitude            0.388363  0.377198  0.616169  0.549232  0.635237\n",
       "longitude           0.806060  0.760380  0.560645  0.415546  0.320844\n",
       "lot_size            0.001600  0.000909  0.029919  0.000706  0.001086\n",
       "census_tract        0.296321  0.005450  0.000013  0.009458  0.999979\n",
       "city_id             0.054243  0.005022  0.022785  0.087001  0.060089\n",
       "zip                 0.779001  0.152717  0.288546  0.260646  0.834068\n",
       "rooms               0.615658  0.000000  0.000000  0.000000  0.615658\n",
       "structure_value     0.212751  0.124992  0.200717  0.154330  0.270884\n",
       "tax_value           0.626629  0.244249  0.293470  0.617787  0.430894\n",
       "year_assessed       0.000000  0.000000  0.000000  0.000000  0.000000\n",
       "land_value          0.476164  0.155450  0.142771  0.515978  0.225680\n",
       "tax_amount          0.644014  0.305471  0.329374  0.648074  0.458551\n",
       "age                 0.372263  0.445255  0.197080  0.372263  0.372263\n",
       "sq_ft_per_bathroom  0.369744  0.122564  0.084615  0.249231  0.164558\n",
       "sq_ft_per_bedroom   0.133000  0.091139  0.125237  0.118855  0.141021\n",
       "sq_ft_per_room      0.132159  0.363787  0.292418  0.280523  0.103487\n",
       "has_half_bath       0.000000  0.000000  0.000000  0.000000  0.000000\n",
       "tax_rate            0.024563  0.029370  0.026479  0.025072  0.025303\n",
       "price_per_sq_ft     0.094689  0.119572  0.233182  0.185919  0.144541\n",
       "Los_Angeles         0.000000  1.000000  1.000000  1.000000  0.000000\n",
       "Orange              1.000000  0.000000  0.000000  0.000000  0.000000\n",
       "Ventura             0.000000  0.000000  0.000000  0.000000  1.000000"
      ]
     },
     "execution_count": 7,
     "metadata": {},
     "output_type": "execute_result"
    }
   ],
   "source": [
    "X_train_scaled.head().T"
   ]
  },
  {
   "cell_type": "code",
   "execution_count": 8,
   "id": "52282d79",
   "metadata": {},
   "outputs": [
    {
     "data": {
      "text/plain": [
       "<AxesSubplot:>"
      ]
     },
     "execution_count": 8,
     "metadata": {},
     "output_type": "execute_result"
    },
    {
     "data": {
      "image/png": "[encoded data removed]",
      "text/plain": [
       "<Figure size 432x288 with 1 Axes>"
      ]
     },
     "metadata": {
      "needs_background": "light"
     },
     "output_type": "display_data"
    }
   ],
   "source": [
    "df.age.hist()"
   ]
  },
  {
   "cell_type": "code",
   "execution_count": 9,
   "id": "a62b5dc9",
   "metadata": {},
   "outputs": [
    {
     "data": {
      "text/plain": [
       "22.12551106386077"
      ]
     },
     "execution_count": 9,
     "metadata": {},
     "output_type": "execute_result"
    }
   ],
   "source": [
    "df.age.std()"
   ]
  },
  {
   "cell_type": "code",
   "execution_count": 10,
   "id": "e5531ad2",
   "metadata": {},
   "outputs": [
    {
     "data": {
      "text/plain": [
       "54.001139564035356"
      ]
     },
     "execution_count": 10,
     "metadata": {},
     "output_type": "execute_result"
    }
   ],
   "source": [
    "df.age.mean()"
   ]
  },
  {
   "cell_type": "code",
   "execution_count": 11,
   "id": "4e56af0a",
   "metadata": {},
   "outputs": [
    {
     "data": {
      "text/plain": [
       "1        3\n",
       "2        3\n",
       "3        3\n",
       "4        3\n",
       "5        2\n",
       "        ..\n",
       "77569    3\n",
       "77570    4\n",
       "77571    3\n",
       "77572    3\n",
       "77573    3\n",
       "Name: age, Length: 61427, dtype: category\n",
       "Categories (5, int64): [1 < 2 < 3 < 4 < 5]"
      ]
     },
     "execution_count": 11,
     "metadata": {},
     "output_type": "execute_result"
    }
   ],
   "source": [
    "pd.cut(df.age, bins=[0,20,40,80,120,200], labels = [1,2,3,4,5])"
   ]
  },
  {
   "cell_type": "code",
   "execution_count": 12,
   "id": "48cbcf7d",
   "metadata": {},
   "outputs": [
    {
     "data": {
      "image/png": "[encoded data removed]",
      "text/plain": [
       "<Figure size 1152x216 with 7 Axes>"
      ]
     },
     "metadata": {
      "needs_background": "light"
     },
     "output_type": "display_data"
    },
    {
     "data": {
      "image/png": "[encoded data removed]",
      "text/plain": [
       "<Figure size 1152x216 with 7 Axes>"
      ]
     },
     "metadata": {
      "needs_background": "light"
     },
     "output_type": "display_data"
    }
   ],
   "source": [
    "viz_explore.histograms1(df)"
   ]
  },
  {
   "cell_type": "code",
   "execution_count": 13,
   "id": "205a28f1",
   "metadata": {},
   "outputs": [
    {
     "data": {
      "image/png": "[encoded data removed]",
      "text/plain": [
       "<Figure size 1152x216 with 7 Axes>"
      ]
     },
     "metadata": {
      "needs_background": "light"
     },
     "output_type": "display_data"
    },
    {
     "data": {
      "image/png": "[encoded data removed]",
      "text/plain": [
       "<Figure size 1152x216 with 7 Axes>"
      ]
     },
     "metadata": {
      "needs_background": "light"
     },
     "output_type": "display_data"
    }
   ],
   "source": [
    "viz_explore.hists2(df)"
   ]
  },
  {
   "cell_type": "code",
   "execution_count": 14,
   "id": "6888d36b",
   "metadata": {},
   "outputs": [
    {
     "data": {
      "image/png": "[encoded data removed]",
      "text/plain": [
       "<Figure size 1152x216 with 6 Axes>"
      ]
     },
     "metadata": {
      "needs_background": "light"
     },
     "output_type": "display_data"
    },
    {
     "data": {
      "image/png": "[encoded data removed]",
      "text/plain": [
       "<Figure size 1152x216 with 6 Axes>"
      ]
     },
     "metadata": {
      "needs_background": "light"
     },
     "output_type": "display_data"
    }
   ],
   "source": [
    "viz_explore.hists3(df)"
   ]
  },
  {
   "cell_type": "code",
   "execution_count": 16,
   "id": "e0ac7ec6",
   "metadata": {},
   "outputs": [
    {
     "data": {
      "image/png": "[encoded data removed]",
      "text/plain": [
       "<Figure size 1152x216 with 2 Axes>"
      ]
     },
     "metadata": {
      "needs_background": "light"
     },
     "output_type": "display_data"
    },
    {
     "data": {
      "image/png": "[encoded data removed]",
      "text/plain": [
       "<Figure size 1152x216 with 2 Axes>"
      ]
     },
     "metadata": {
      "needs_background": "light"
     },
     "output_type": "display_data"
    }
   ],
   "source": [
    "viz_explore.hists4(df)"
   ]
  },
  {
   "cell_type": "code",
   "execution_count": 15,
   "id": "016ea9dd",
   "metadata": {},
   "outputs": [
    {
     "data": {
      "text/plain": [
       "753.482490    129\n",
       "703.250324    118\n",
       "678.134241    109\n",
       "985.806257     98\n",
       "791.156614     94\n",
       "             ... \n",
       "180.833333      1\n",
       "302.250000      1\n",
       "366.875000      1\n",
       "309.333333      1\n",
       "181.285714      1\n",
       "Name: sq_ft_per_room, Length: 7064, dtype: int64"
      ]
     },
     "execution_count": 15,
     "metadata": {},
     "output_type": "execute_result"
    }
   ],
   "source": [
    "df.sq_ft_per_room.value_counts()"
   ]
  },
  {
   "cell_type": "code",
   "execution_count": null,
   "id": "9414de92",
   "metadata": {},
   "outputs": [],
   "source": [
    "df.sq_ft_per_room.hist()"
   ]
  },
  {
   "cell_type": "markdown",
   "id": "53b7fda7",
   "metadata": {},
   "source": [
    "There aree 13 homes with 2 half baths"
   ]
  },
  {
   "cell_type": "code",
   "execution_count": null,
   "id": "25cb8444",
   "metadata": {
    "scrolled": true
   },
   "outputs": [],
   "source": [
    "df[(df.bathrooms - df.full_baths) == 1.0]"
   ]
  },
  {
   "cell_type": "markdown",
   "id": "308aa518",
   "metadata": {},
   "source": [
    "## Is there a time period that has a higher or lower log error?\n",
    "Bin the age group--ten bins? And see results.  Hue on county...if that makes a difference"
   ]
  },
  {
   "cell_type": "code",
   "execution_count": null,
   "id": "7852dd92",
   "metadata": {},
   "outputs": [],
   "source": [
    "sns.scatterplot(x='age', y='logerror', data=train)"
   ]
  },
  {
   "cell_type": "code",
   "execution_count": null,
   "id": "8c9e69b3",
   "metadata": {},
   "outputs": [],
   "source": [
    "sns.relplot(\n",
    "    data=train,\n",
    "    y='logerror',\n",
    "    x='age',\n",
    "    col=pd.cut(df.age, bins=[0,40,80,120,200]),\n",
    ")"
   ]
  },
  {
   "cell_type": "markdown",
   "id": "8874af5a",
   "metadata": {},
   "source": [
    "Things look a little tighter on either end...the 40-60 and the 60-80 look like they have a wider distribution of logerror"
   ]
  },
  {
   "cell_type": "code",
   "execution_count": null,
   "id": "4f61d474",
   "metadata": {},
   "outputs": [],
   "source": [
    "plt.figure(figsize=(20,10))\n",
    "sns.boxplot(x='age_bin', y='logerror', data= train)"
   ]
  },
  {
   "cell_type": "markdown",
   "id": "efe76482",
   "metadata": {},
   "source": [
    "Still looks like there are more outliers in the middle, but this could be due to more data being available in those age bins"
   ]
  },
  {
   "cell_type": "code",
   "execution_count": null,
   "id": "994487fe",
   "metadata": {},
   "outputs": [],
   "source": [
    "sns.histplot(data=train, x= df[df.age_bin == pd.Interval(0, 40)].logerror)"
   ]
  },
  {
   "cell_type": "code",
   "execution_count": null,
   "id": "d94a7d55",
   "metadata": {},
   "outputs": [],
   "source": [
    "plt.figure(figsize=(20,5))\n",
    "plt.subplot(1,4,1)\n",
    "sns.histplot(data=df, x= train[train.age_bin == pd.Interval(0, 40)].logerror)\n",
    "plt.title(\"0 to 40\")\n",
    "plt.subplot(1,4,2)\n",
    "sns.histplot(data=df, x= train[train.age_bin == pd.Interval(40,80)].logerror)\n",
    "plt.title(\"40 to 80\")\n",
    "plt.subplot(1,4,3)\n",
    "sns.histplot(data=df, x= train[train.age_bin == pd.Interval(80,120)].logerror)\n",
    "plt.title(\"80 to 120\")\n",
    "plt.subplot(1,4,4)\n",
    "sns.histplot(data=df, x= train[train.age_bin == pd.Interval(120,200)].logerror)\n",
    "plt.title(\"120 and up\")\n",
    "# plt.subplot(1,7,5)\n",
    "# sns.histplot(data=df, x= train[train.age_bin == pd.Interval(80, 100)].logerror)\n",
    "# plt.title(\"80 to 100\")\n",
    "# plt.subplot(1,7,6)\n",
    "# sns.histplot(data=df, x= train[train.age_bin == pd.Interval(100, 120)].logerror)\n",
    "# plt.title(\"100 to 120\")\n",
    "# plt.subplot(1,7,7)\n",
    "# sns.histplot(data=df, x= train[train.age_bin == pd.Interval(120, 200)].logerror)\n",
    "# plt.title(\"120 and Up\")"
   ]
  },
  {
   "cell_type": "markdown",
   "id": "f5d3db00",
   "metadata": {},
   "source": [
    "Looking at logerror by age_bin, they are generally normally distributed"
   ]
  },
  {
   "cell_type": "markdown",
   "id": "67b47d13",
   "metadata": {},
   "source": [
    "Maybe run an ANOVA test to see about the variances? \n",
    "\n",
    "First, Levene"
   ]
  },
  {
   "cell_type": "code",
   "execution_count": null,
   "id": "7fa39525",
   "metadata": {},
   "outputs": [],
   "source": [
    "#H0: Variances are equal\n",
    "#Ha: Variances are not equal\n",
    "\n",
    "stats.levene(\n",
    "    train[train.age_bin == pd.Interval(0, 40)].logerror,\n",
    "    train[train.age_bin == pd.Interval(40,80)].logerror,\n",
    "    train[train.age_bin == pd.Interval(80,120)].logerror,\n",
    "    train[train.age_bin == pd.Interval(120,200)].logerror,\n",
    "#     train[train.age_bin == pd.Interval(80,100)].logerror,\n",
    "#     train[train.age_bin == pd.Interval(100,120)].logerror,\n",
    "#     train[train.age_bin == pd.Interval(120,200)].logerror\n",
    ")"
   ]
  },
  {
   "cell_type": "markdown",
   "id": "f0ffe1c5",
   "metadata": {},
   "source": [
    "The results show that the null hypothesis is rejected"
   ]
  },
  {
   "cell_type": "code",
   "execution_count": null,
   "id": "4236f3bc",
   "metadata": {},
   "outputs": [],
   "source": [
    "train[train.age_bin == pd.Interval(0, 40)].logerror.var()"
   ]
  },
  {
   "cell_type": "code",
   "execution_count": null,
   "id": "fa061669",
   "metadata": {},
   "outputs": [],
   "source": [
    "train[train.age_bin == pd.Interval(120,200)].logerror.var()"
   ]
  },
  {
   "cell_type": "markdown",
   "id": "e1849b10",
   "metadata": {},
   "source": [
    "#### Anova testing of the logerror by age_bin"
   ]
  },
  {
   "cell_type": "markdown",
   "id": "4bf98542",
   "metadata": {},
   "source": [
    "Set Hypothesis\n",
    "- 𝐻0 : Population means of logerror (by age_bin) are equal\n",
    "- 𝐻𝑎 : Population means of logerror (by age_bin) are not all equal"
   ]
  },
  {
   "cell_type": "code",
   "execution_count": null,
   "id": "c07ebb6d",
   "metadata": {},
   "outputs": [],
   "source": [
    "# This cell runs an ANOVA test on the different 'age_bins'\n",
    "# We are demonstrating statistically that the age correlates to the logerror\n",
    "f, p = stats.f_oneway(\n",
    "    train[train.age_bin == pd.Interval(0, 40)].logerror,\n",
    "    train[train.age_bin == pd.Interval(40,80)].logerror,\n",
    "    train[train.age_bin == pd.Interval(80,120)].logerror,\n",
    "    train[train.age_bin == pd.Interval(120,200)].logerror)\n",
    "          \n",
    "#     train[train.age_bin == pd.Interval(80,100)].logerror,\n",
    "#     train[train.age_bin == pd.Interval(100,120)].logerror,\n",
    "#     train[train.age_bin == pd.Interval(120,200)].logerror\n",
    "#\n",
    "f, p"
   ]
  },
  {
   "cell_type": "code",
   "execution_count": null,
   "id": "7e0b8480",
   "metadata": {},
   "outputs": [],
   "source": [
    "# Setting our alpha and returning a statemtent on the validity of the ANOVA test by comparing alpha to the resulting p-value\n",
    "\n",
    "alpha = 0.05\n",
    "if p < alpha:\n",
    "    print(\"We reject H_O\")\n",
    "else:\n",
    "    print(\"We fail to reject $H_{0}$\")"
   ]
  },
  {
   "cell_type": "markdown",
   "id": "b19cb9c8",
   "metadata": {},
   "source": [
    "#### The anova test shows I can proceed with the understanding that the average logerror is different depending on the age of the home"
   ]
  },
  {
   "cell_type": "code",
   "execution_count": null,
   "id": "3894e1e6",
   "metadata": {},
   "outputs": [],
   "source": [
    "df.columns"
   ]
  },
  {
   "cell_type": "code",
   "execution_count": null,
   "id": "8c3c0b1e",
   "metadata": {
    "scrolled": true
   },
   "outputs": [],
   "source": [
    "sns.relplot(data=train, y='logerror', x='age', col='county')"
   ]
  },
  {
   "cell_type": "markdown",
   "id": "2f9fa1ab",
   "metadata": {},
   "source": [
    "This relplot shows age and logerror by county; any dignificant differences between the counties aren't clear"
   ]
  },
  {
   "cell_type": "markdown",
   "id": "c2e53208",
   "metadata": {},
   "source": [
    "### What about a relationship between tax_value and logerror? (also: are these related targets?)"
   ]
  },
  {
   "cell_type": "code",
   "execution_count": null,
   "id": "9f67c66a",
   "metadata": {},
   "outputs": [],
   "source": [
    "sns.scatterplot(x=train.tax_value, y=train.logerror, data=train)"
   ]
  },
  {
   "cell_type": "code",
   "execution_count": null,
   "id": "e9ec626e",
   "metadata": {},
   "outputs": [],
   "source": [
    "sns.scatterplot(x=train.tax_value, y=train.logerror, data=train, hue='county', alpha=.5)"
   ]
  },
  {
   "cell_type": "code",
   "execution_count": null,
   "id": "7305388f",
   "metadata": {},
   "outputs": [],
   "source": [
    "sns.relplot(x=train.tax_value, y=train.logerror, data=train, col='county', alpha=.5)"
   ]
  },
  {
   "cell_type": "code",
   "execution_count": null,
   "id": "6488d71f",
   "metadata": {
    "scrolled": true
   },
   "outputs": [],
   "source": [
    "train[train.county=='Los_Angeles'].shape"
   ]
  },
  {
   "cell_type": "code",
   "execution_count": null,
   "id": "90246b48",
   "metadata": {},
   "outputs": [],
   "source": [
    "train[train.county=='Orange'].shape"
   ]
  },
  {
   "cell_type": "code",
   "execution_count": null,
   "id": "3e117118",
   "metadata": {},
   "outputs": [],
   "source": [
    "train[train.county=='Ventura'].shape"
   ]
  },
  {
   "cell_type": "markdown",
   "id": "6d4675d7",
   "metadata": {},
   "source": [
    "### No clear impressions"
   ]
  },
  {
   "cell_type": "code",
   "execution_count": null,
   "id": "cf5db235",
   "metadata": {},
   "outputs": [],
   "source": [
    "sns.lmplot(x='tax_value', y='logerror', data=train, scatter_kws={'alpha':.2},hue='county')"
   ]
  },
  {
   "cell_type": "markdown",
   "id": "41db55ad",
   "metadata": {},
   "source": [
    "### Look like perfectly flat trend lines"
   ]
  },
  {
   "cell_type": "code",
   "execution_count": null,
   "id": "ae9ae7ec",
   "metadata": {},
   "outputs": [],
   "source": [
    "train.head().T"
   ]
  },
  {
   "cell_type": "markdown",
   "id": "22255920",
   "metadata": {},
   "source": [
    "## Does the condition of the home have an impact on the logerror?"
   ]
  },
  {
   "cell_type": "code",
   "execution_count": null,
   "id": "6ad95ed9",
   "metadata": {},
   "outputs": [],
   "source": [
    "sns.barplot(x=train.condition,y=train.logerror, data=train)"
   ]
  },
  {
   "cell_type": "markdown",
   "id": "186f2c16",
   "metadata": {},
   "source": [
    "Ok, the logerror is off by more on the houses with a condition of 1 and 3"
   ]
  },
  {
   "cell_type": "markdown",
   "id": "4413157a",
   "metadata": {},
   "source": [
    "### An ANOVA test might be in order to show this:"
   ]
  },
  {
   "cell_type": "markdown",
   "id": "9af42a85",
   "metadata": {},
   "source": [
    "First, a Levene test to check on variances:\n",
    "\n",
    "#H0: Variances are equal\n",
    "#Ha: Variances are not equal"
   ]
  },
  {
   "cell_type": "code",
   "execution_count": null,
   "id": "313a6604",
   "metadata": {
    "scrolled": true
   },
   "outputs": [],
   "source": [
    "train['condition'].hist()"
   ]
  },
  {
   "cell_type": "markdown",
   "id": "5393401c",
   "metadata": {},
   "source": [
    "Roughly normally distributed"
   ]
  },
  {
   "cell_type": "code",
   "execution_count": null,
   "id": "ee3315db",
   "metadata": {},
   "outputs": [],
   "source": [
    "# Levene test for equal variances...they aren't equal\n",
    "stats.levene(train.condition==1,train.condition==3,train.condition==4,train.condition==5,\n",
    "            train.condition==6,train.condition==7,train.condition==8,train.condition==9,\n",
    "            train.condition==10, train.condition==11,train.condition==12)"
   ]
  },
  {
   "cell_type": "markdown",
   "id": "eb8e3f68",
   "metadata": {},
   "source": [
    "Set Hypothesis (for the ANOVA test)\n",
    "- 𝐻0 : Population means of logerror (by condition) are equal\n",
    "- 𝐻𝑎 : Population means of logerror (by condition) are not all equal"
   ]
  },
  {
   "cell_type": "code",
   "execution_count": null,
   "id": "0180d2b1",
   "metadata": {},
   "outputs": [],
   "source": [
    "# the anova test:\n",
    "f, p = stats.f_oneway(train.condition==1,train.condition==3,train.condition==4,train.condition==5,\n",
    "            train.condition==6,train.condition==7,train.condition==8,train.condition==9,\n",
    "            train.condition==10, train.condition==11,train.condition==12)\n",
    "f,p"
   ]
  },
  {
   "cell_type": "code",
   "execution_count": null,
   "id": "44186205",
   "metadata": {},
   "outputs": [],
   "source": [
    "# Setting our alpha and returning a statemtent on the validity of the ANOVA test by comparing alpha to the resulting p-value\n",
    "\n",
    "alpha = 0.05\n",
    "if p < alpha:\n",
    "    print(\"We reject H_O\")\n",
    "else:\n",
    "    print(\"We fail to reject $H_{0}$\")"
   ]
  },
  {
   "cell_type": "code",
   "execution_count": null,
   "id": "87832952",
   "metadata": {},
   "outputs": [],
   "source": [
    "sns.barplot(x=train.rooms,y=train.logerror, data=train)\n",
    "plt.tight_layout"
   ]
  },
  {
   "cell_type": "markdown",
   "id": "e0bba118",
   "metadata": {},
   "source": [
    "## OK, let's answer a simple question for now:\n",
    "\n",
    "## Does (or...how does?) logerror differ by county?"
   ]
  },
  {
   "cell_type": "code",
   "execution_count": null,
   "id": "ab5ce8d9",
   "metadata": {},
   "outputs": [],
   "source": [
    "sns.boxplot(x=train.county, y=train.logerror)"
   ]
  },
  {
   "cell_type": "code",
   "execution_count": null,
   "id": "99f16992",
   "metadata": {},
   "outputs": [],
   "source": [
    "sns.barplot(x=train.county, y=train.logerror)"
   ]
  },
  {
   "cell_type": "markdown",
   "id": "33a79ef6",
   "metadata": {},
   "source": [
    "### Running a nope, also an ANOVA to check on this\n",
    "\n",
    "H_0: Average logerror of the three counties is the same\n",
    "\n",
    "\n",
    "H_a: The logerror is different according to county"
   ]
  },
  {
   "cell_type": "code",
   "execution_count": null,
   "id": "78da7b4c",
   "metadata": {},
   "outputs": [],
   "source": [
    "# Assumptions: independence, yes.  Normal: yes (also large sample). Variances....\n",
    "train.Orange.var()"
   ]
  },
  {
   "cell_type": "code",
   "execution_count": null,
   "id": "545b8d32",
   "metadata": {},
   "outputs": [],
   "source": [
    "train.Los_Angeles.var()"
   ]
  },
  {
   "cell_type": "code",
   "execution_count": null,
   "id": "0034a160",
   "metadata": {},
   "outputs": [],
   "source": [
    "train.Ventura.var()"
   ]
  },
  {
   "cell_type": "markdown",
   "id": "d7cc8b80",
   "metadata": {},
   "source": [
    "Definitely different variances, so set that in the test"
   ]
  },
  {
   "cell_type": "code",
   "execution_count": null,
   "id": "58a0a623",
   "metadata": {},
   "outputs": [],
   "source": [
    "f,p = scipy.stats.f_oneway(train.Orange,train.Los_Angeles,train.Ventura)\n",
    "f,p"
   ]
  },
  {
   "cell_type": "code",
   "execution_count": null,
   "id": "c9c3f00e",
   "metadata": {},
   "outputs": [],
   "source": [
    "# Setting our alpha and returning a statemtent on the validity of the ANOVA test by comparing alpha to the resulting p-value\n",
    "\n",
    "alpha = 0.05\n",
    "if p < alpha:\n",
    "    print(\"We reject H_O\")\n",
    "else:\n",
    "    print(\"We fail to reject $H_{0}$\")"
   ]
  },
  {
   "cell_type": "markdown",
   "id": "c66077d1",
   "metadata": {},
   "source": [
    "And thus, we conclude that the means of the different logerrors by county are different"
   ]
  },
  {
   "cell_type": "code",
   "execution_count": null,
   "id": "6d418f89",
   "metadata": {},
   "outputs": [],
   "source": [
    "train.head().T"
   ]
  },
  {
   "cell_type": "markdown",
   "id": "4bdd5477",
   "metadata": {},
   "source": [
    "## Does my whole theory about half bathrooms bear out??"
   ]
  },
  {
   "cell_type": "code",
   "execution_count": null,
   "id": "e991b7dc",
   "metadata": {},
   "outputs": [],
   "source": [
    "sns.barplot(x=train.has_half_bath,y=train.logerror)"
   ]
  },
  {
   "cell_type": "markdown",
   "id": "125c14c2",
   "metadata": {},
   "source": [
    "OK, well there is some difference, for what it's worth...proceeding to stats testing via one sided, independent t test"
   ]
  },
  {
   "cell_type": "markdown",
   "id": "66e64292",
   "metadata": {},
   "source": [
    "First: assumptions:\n",
    "\n",
    "- Normally distributed....mmm basically yes and many observations\n",
    "- Independence: check\n",
    "- Variances...are almost equal actually\n"
   ]
  },
  {
   "cell_type": "code",
   "execution_count": null,
   "id": "221e6f72",
   "metadata": {},
   "outputs": [],
   "source": [
    "train.has_half_bath.hist()"
   ]
  },
  {
   "cell_type": "code",
   "execution_count": null,
   "id": "80a55d90",
   "metadata": {},
   "outputs": [],
   "source": [
    "has_half_bath_sample = train[train.has_half_bath == 1].logerror\n",
    "\n",
    "has_half_bath_sample.hist()"
   ]
  },
  {
   "cell_type": "markdown",
   "id": "c8039c0f",
   "metadata": {},
   "source": [
    "Note how there are some examples that are wildly off in their logerror"
   ]
  },
  {
   "cell_type": "code",
   "execution_count": null,
   "id": "2ea06c15",
   "metadata": {},
   "outputs": [],
   "source": [
    "has_half_bath_sample.var()"
   ]
  },
  {
   "cell_type": "code",
   "execution_count": null,
   "id": "6cebc91a",
   "metadata": {},
   "outputs": [],
   "source": [
    "no_half_bath_sample = train[train.has_half_bath==0].logerror\n",
    "no_half_bath_sample.hist()"
   ]
  },
  {
   "cell_type": "code",
   "execution_count": null,
   "id": "ce164f2d",
   "metadata": {},
   "outputs": [],
   "source": [
    "no_half_bath_sample.var()"
   ]
  },
  {
   "cell_type": "markdown",
   "id": "b3add980",
   "metadata": {},
   "source": [
    "Set Hypothesis\n",
    "\n",
    "H_0\n",
    ": Mean of logerror of has_half_bath = Mean of logerror of no_half_bath\n",
    "\n",
    "H_a\n",
    ": Mean of logerror of has_half_bath != Mean of logerror of no_half_bath"
   ]
  },
  {
   "cell_type": "code",
   "execution_count": null,
   "id": "716d2fab",
   "metadata": {},
   "outputs": [],
   "source": [
    "t, p = stats.ttest_ind(has_half_bath_sample, no_half_bath_sample, equal_var=True)\n",
    "\n",
    "t, p"
   ]
  },
  {
   "cell_type": "markdown",
   "id": "cd21c964",
   "metadata": {},
   "source": [
    "p is NOT less than alpha (0.05), and therefore I cannot reject the Null Hypothesis"
   ]
  },
  {
   "cell_type": "markdown",
   "id": "281fa406",
   "metadata": {},
   "source": [
    "### So, having a half bathroom does not affect logerror.  Not directly for sure"
   ]
  },
  {
   "cell_type": "code",
   "execution_count": null,
   "id": "f317cc8e",
   "metadata": {},
   "outputs": [],
   "source": [
    "train.head().T"
   ]
  },
  {
   "cell_type": "code",
   "execution_count": null,
   "id": "1c8c2979",
   "metadata": {},
   "outputs": [],
   "source": []
  }
 ],
 "metadata": {
  "kernelspec": {
   "display_name": "Python 3",
   "language": "python",
   "name": "python3"
  },
  "language_info": {
   "codemirror_mode": {
    "name": "ipython",
    "version": 3
   },
   "file_extension": ".py",
   "mimetype": "text/x-python",
   "name": "python",
   "nbconvert_exporter": "python",
   "pygments_lexer": "ipython3",
   "version": "3.8.8"
  }
 },
 "nbformat": 4,
 "nbformat_minor": 5
}
