{
 "cells": [
  {
   "cell_type": "code",
   "execution_count": 1,
   "id": "0d689f3d",
   "metadata": {},
   "outputs": [],
   "source": [
    "import pandas as pd\n",
    "import numpy as np\n",
    "import os\n",
    "from env import host, user, password\n",
    "from sklearn.impute import SimpleImputer\n",
    "import matplotlib.pyplot as plt\n",
    "from scipy import stats\n",
    "import seaborn as sns\n",
    "import env\n",
    "from sklearn.model_selection import train_test_split\n",
    "from sklearn.preprocessing import MinMaxScaler\n",
    "\n",
    "from sklearn.impute import SimpleImputer\n",
    "import scipy\n",
    "import sklearn.linear_model\n",
    "import sklearn.preprocessing\n",
    "import warnings\n",
    "warnings.filterwarnings(\"ignore\")\n",
    "import wrangle\n",
    "import viz_explore\n",
    "import scipy.stats as stats\n",
    "import brian_model\n",
    "import cluster_model\n",
    "\n",
    "from sklearn.cluster import KMeans"
   ]
  },
  {
   "cell_type": "code",
   "execution_count": 2,
   "id": "d0b8aee6",
   "metadata": {},
   "outputs": [],
   "source": [
    "# MY PARTITIONS\n",
    "\n",
    "df, train, validate, test, X_train, y_train, X_validate, y_validate, X_test, y_test, \\\n",
    "train_scaled, X_train_scaled, y_train_scaled, validate_scaled, X_validate_scaled, \\\n",
    "y_validate_scaled, test_scaled, X_test_scaled, y_test_scaled \\\n",
    "= wrangle.wrangle_zillow()"
   ]
  },
  {
   "cell_type": "markdown",
   "id": "2d1c2c09",
   "metadata": {},
   "source": [
    "## Let's take a moment to run some feature engineering...."
   ]
  },
  {
   "cell_type": "code",
   "execution_count": 3,
   "id": "dd7e7c03",
   "metadata": {},
   "outputs": [
    {
     "data": {
      "text/plain": [
       "['bedrooms', 'condition', 'rooms', 'tax_amount', 'price_per_sq_ft']"
      ]
     },
     "execution_count": 3,
     "metadata": {},
     "output_type": "execute_result"
    }
   ],
   "source": [
    "# This cell runs my function in feature_engineering.py that selects for the top 'k' number \n",
    "# of features\n",
    "import brian_feature_engineering\n",
    "f_feature = brian_feature_engineering.select_kbest(X_train_scaled,y_train_scaled, 5)\n",
    "f_feature"
   ]
  },
  {
   "cell_type": "code",
   "execution_count": 4,
   "id": "bd2138b4",
   "metadata": {},
   "outputs": [
    {
     "data": {
      "text/plain": [
       "['condition',\n",
       " 'lot_size',\n",
       " 'structure_value',\n",
       " 'sq_ft_per_bathroom',\n",
       " 'price_per_sq_ft']"
      ]
     },
     "execution_count": 4,
     "metadata": {},
     "output_type": "execute_result"
    }
   ],
   "source": [
    "# Likewise, here we are using a function from the feature_engineering.py file to select for the best RFE features\n",
    "\n",
    "rfe_feature = brian_feature_engineering.select_rfe(X_train_scaled,y_train_scaled, 5)\n",
    "rfe_feature"
   ]
  },
  {
   "cell_type": "markdown",
   "id": "b32ad248",
   "metadata": {},
   "source": [
    "#  Modeling\n",
    "\n",
    "### Scaling\n",
    "I have done modeling on the scaled datasets\n",
    "\n",
    "### Baseline\n",
    "I will use MEAN as the baseline\n",
    "\n",
    "### Features\n",
    "I will use ____ as my kbest features; _______ as my rfe features\n",
    "All the X_train_scaled, X_validate_scaled, etc. are scaled from X_train, etc.¶\n",
    "All of the X_train_kbest, X_train_rfe, etc are derived from the scaled datasets"
   ]
  },
  {
   "cell_type": "code",
   "execution_count": 5,
   "id": "f4c10016",
   "metadata": {},
   "outputs": [],
   "source": [
    "# This cell is running a function in my brian_model.py file\n",
    "# It creates data sets for modeling based on the KBest and RFE features, respectively:\n",
    "X_train_kbest, X_validate_kbest, X_test_kbest, X_train_rfe, X_validate_rfe, X_test_rfe \\\n",
    "= brian_model.create_data_for_models(X_train_scaled, X_validate_scaled, X_test_scaled)"
   ]
  },
  {
   "cell_type": "code",
   "execution_count": 6,
   "id": "1f992fa3",
   "metadata": {},
   "outputs": [],
   "source": [
    "# 1. Predict logerror_pred_mean\n",
    "# I create here new columns in the y_ data sets to hold the baseline value I am working with.\n",
    "logerror_pred_mean = y_train_scaled.logerror.mean()\n",
    "y_train_scaled['logerror_pred_mean'] = round(logerror_pred_mean, 2)\n",
    "y_validate_scaled['logerror_pred_mean'] = round(logerror_pred_mean,2)\n",
    "y_test_scaled['logerror_pred_mean'] = round(logerror_pred_mean,2)"
   ]
  },
  {
   "cell_type": "code",
   "execution_count": 7,
   "id": "5f9e7092",
   "metadata": {
    "scrolled": true
   },
   "outputs": [
    {
     "data": {
      "text/html": [
       "<div>\n",
       "<style scoped>\n",
       "    .dataframe tbody tr th:only-of-type {\n",
       "        vertical-align: middle;\n",
       "    }\n",
       "\n",
       "    .dataframe tbody tr th {\n",
       "        vertical-align: top;\n",
       "    }\n",
       "\n",
       "    .dataframe thead th {\n",
       "        text-align: right;\n",
       "    }\n",
       "</style>\n",
       "<table border=\"1\" class=\"dataframe\">\n",
       "  <thead>\n",
       "    <tr style=\"text-align: right;\">\n",
       "      <th></th>\n",
       "      <th>logerror</th>\n",
       "      <th>logerror_pred_mean</th>\n",
       "    </tr>\n",
       "  </thead>\n",
       "  <tbody>\n",
       "    <tr>\n",
       "      <th>0</th>\n",
       "      <td>0.600496</td>\n",
       "      <td>0.6</td>\n",
       "    </tr>\n",
       "    <tr>\n",
       "      <th>1</th>\n",
       "      <td>0.606472</td>\n",
       "      <td>0.6</td>\n",
       "    </tr>\n",
       "    <tr>\n",
       "      <th>2</th>\n",
       "      <td>0.615869</td>\n",
       "      <td>0.6</td>\n",
       "    </tr>\n",
       "    <tr>\n",
       "      <th>3</th>\n",
       "      <td>0.599217</td>\n",
       "      <td>0.6</td>\n",
       "    </tr>\n",
       "    <tr>\n",
       "      <th>4</th>\n",
       "      <td>0.595534</td>\n",
       "      <td>0.6</td>\n",
       "    </tr>\n",
       "    <tr>\n",
       "      <th>...</th>\n",
       "      <td>...</td>\n",
       "      <td>...</td>\n",
       "    </tr>\n",
       "    <tr>\n",
       "      <th>22156</th>\n",
       "      <td>0.593047</td>\n",
       "      <td>0.6</td>\n",
       "    </tr>\n",
       "    <tr>\n",
       "      <th>22157</th>\n",
       "      <td>0.597474</td>\n",
       "      <td>0.6</td>\n",
       "    </tr>\n",
       "    <tr>\n",
       "      <th>22158</th>\n",
       "      <td>0.601797</td>\n",
       "      <td>0.6</td>\n",
       "    </tr>\n",
       "    <tr>\n",
       "      <th>22159</th>\n",
       "      <td>0.598466</td>\n",
       "      <td>0.6</td>\n",
       "    </tr>\n",
       "    <tr>\n",
       "      <th>22160</th>\n",
       "      <td>0.588848</td>\n",
       "      <td>0.6</td>\n",
       "    </tr>\n",
       "  </tbody>\n",
       "</table>\n",
       "<p>22161 rows × 2 columns</p>\n",
       "</div>"
      ],
      "text/plain": [
       "       logerror  logerror_pred_mean\n",
       "0      0.600496                 0.6\n",
       "1      0.606472                 0.6\n",
       "2      0.615869                 0.6\n",
       "3      0.599217                 0.6\n",
       "4      0.595534                 0.6\n",
       "...         ...                 ...\n",
       "22156  0.593047                 0.6\n",
       "22157  0.597474                 0.6\n",
       "22158  0.601797                 0.6\n",
       "22159  0.598466                 0.6\n",
       "22160  0.588848                 0.6\n",
       "\n",
       "[22161 rows x 2 columns]"
      ]
     },
     "execution_count": 7,
     "metadata": {},
     "output_type": "execute_result"
    }
   ],
   "source": [
    "y_train_scaled\n"
   ]
  },
  {
   "cell_type": "code",
   "execution_count": null,
   "id": "3a205075",
   "metadata": {},
   "outputs": [],
   "source": []
  }
 ],
 "metadata": {
  "kernelspec": {
   "display_name": "Python 3",
   "language": "python",
   "name": "python3"
  },
  "language_info": {
   "codemirror_mode": {
    "name": "ipython",
    "version": 3
   },
   "file_extension": ".py",
   "mimetype": "text/x-python",
   "name": "python",
   "nbconvert_exporter": "python",
   "pygments_lexer": "ipython3",
   "version": "3.8.8"
  }
 },
 "nbformat": 4,
 "nbformat_minor": 5
}
