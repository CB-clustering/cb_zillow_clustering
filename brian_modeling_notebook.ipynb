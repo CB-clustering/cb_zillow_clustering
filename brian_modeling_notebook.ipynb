{
 "cells": [
  {
   "cell_type": "code",
   "execution_count": 1,
   "id": "9d384086",
   "metadata": {},
   "outputs": [],
   "source": [
    "import pandas as pd\n",
    "import numpy as np\n",
    "import os\n",
    "from env import host, user, password\n",
    "from sklearn.impute import SimpleImputer\n",
    "import matplotlib.pyplot as plt\n",
    "from scipy import stats\n",
    "import seaborn as sns\n",
    "import env\n",
    "from sklearn.model_selection import train_test_split\n",
    "from sklearn.preprocessing import MinMaxScaler\n",
    "\n",
    "from sklearn.impute import SimpleImputer\n",
    "import scipy\n",
    "import sklearn.linear_model\n",
    "import sklearn.preprocessing\n",
    "import warnings\n",
    "warnings.filterwarnings(\"ignore\")\n",
    "import wrangle\n",
    "import viz_explore\n",
    "import scipy.stats as stats\n",
    "import brian_model\n",
    "import cluster_model\n",
    "import brian_feature_engineering\n",
    "\n",
    "from sklearn.cluster import KMeans\n",
    "\n",
    "from sklearn.linear_model import LinearRegression, LassoLars, TweedieRegressor\n",
    "from sklearn.preprocessing import PolynomialFeatures\n",
    "from sklearn.metrics import mean_squared_error\n",
    "from sklearn.tree import DecisionTreeClassifier\n",
    "from sklearn.tree import export_graphviz\n",
    "from sklearn.metrics import classification_report\n",
    "from sklearn.metrics import confusion_matrix\n",
    "from sklearn.ensemble import RandomForestClassifier\n",
    "from sklearn.neighbors import KNeighborsClassifier\n",
    "from sklearn.linear_model import LogisticRegression\n",
    "import sklearn.linear_model\n",
    "import sklearn.preprocessing\n",
    "import warnings"
   ]
  },
  {
   "cell_type": "code",
   "execution_count": 2,
   "id": "2428e3d8",
   "metadata": {},
   "outputs": [],
   "source": [
    "# MY PARTITIONS\n",
    "\n",
    "df, train, validate, test, X_train, y_train, X_validate, y_validate, X_test, y_test, \\\n",
    "train_scaled, X_train_scaled, y_train_scaled, validate_scaled, X_validate_scaled, \\\n",
    "y_validate_scaled, test_scaled, X_test_scaled, y_test_scaled \\\n",
    "= wrangle.wrangle_zillow()"
   ]
  },
  {
   "cell_type": "markdown",
   "id": "b8b035e3",
   "metadata": {},
   "source": [
    "## Let's take a moment to run some feature engineering...."
   ]
  },
  {
   "cell_type": "code",
   "execution_count": 3,
   "id": "2788920c",
   "metadata": {},
   "outputs": [
    {
     "data": {
      "text/plain": [
       "Index(['bathrooms', 'bedrooms', 'condition', 'sq_ft', 'full_baths', 'latitude',\n",
       "       'longitude', 'lot_size', 'rooms', 'structure_value', 'tax_value',\n",
       "       'year_assessed', 'land_value', 'tax_amount', 'age',\n",
       "       'sq_ft_per_bathroom', 'sq_ft_per_bedroom', 'sq_ft_per_room',\n",
       "       'has_half_bath', 'tax_rate', 'price_per_sq_ft', 'Los_Angeles', 'Orange',\n",
       "       'Ventura'],\n",
       "      dtype='object')"
      ]
     },
     "execution_count": 3,
     "metadata": {},
     "output_type": "execute_result"
    }
   ],
   "source": [
    "X_train_scaled.columns"
   ]
  },
  {
   "cell_type": "code",
   "execution_count": 4,
   "id": "ba609fcc",
   "metadata": {},
   "outputs": [
    {
     "data": {
      "text/plain": [
       "['bedrooms', 'condition', 'rooms', 'tax_amount', 'price_per_sq_ft']"
      ]
     },
     "execution_count": 4,
     "metadata": {},
     "output_type": "execute_result"
    }
   ],
   "source": [
    "# This cell runs my function in feature_engineering.py that selects for the top 'k' number \n",
    "# of features\n",
    "f_feature = brian_feature_engineering.select_kbest(X_train_scaled,y_train_scaled, 5)\n",
    "f_feature"
   ]
  },
  {
   "cell_type": "code",
   "execution_count": 5,
   "id": "1c0ce8d7",
   "metadata": {},
   "outputs": [
    {
     "data": {
      "text/plain": [
       "['condition',\n",
       " 'lot_size',\n",
       " 'structure_value',\n",
       " 'sq_ft_per_bathroom',\n",
       " 'price_per_sq_ft']"
      ]
     },
     "execution_count": 5,
     "metadata": {},
     "output_type": "execute_result"
    }
   ],
   "source": [
    "# Likewise, here we are using a function from the feature_engineering.py file to select for the best RFE features\n",
    "\n",
    "rfe_feature = brian_feature_engineering.select_rfe(X_train_scaled,y_train_scaled, 5)\n",
    "rfe_feature"
   ]
  },
  {
   "cell_type": "markdown",
   "id": "82d5e368",
   "metadata": {},
   "source": [
    "#  Modeling\n",
    "\n",
    "### Scaling\n",
    "I have done modeling on the scaled datasets\n",
    "\n",
    "### Baseline\n",
    "I will use MEAN as the baseline\n",
    "\n",
    "### Features\n",
    "I will use ____ as my kbest features; _______ as my rfe features\n",
    "All the X_train_scaled, X_validate_scaled, etc. are scaled from X_train, etc.¶\n",
    "All of the X_train_kbest, X_train_rfe, etc are derived from the scaled datasets"
   ]
  },
  {
   "cell_type": "code",
   "execution_count": 6,
   "id": "c98fb2f1",
   "metadata": {},
   "outputs": [],
   "source": [
    "# This cell is running a function in my brian_model.py file\n",
    "# It creates data sets for modeling based on the KBest and RFE features, respectively:\n",
    "X_train_kbest, X_validate_kbest, X_test_kbest, X_train_rfe, X_validate_rfe, X_test_rfe \\\n",
    "= brian_model.create_data_for_models(X_train_scaled, X_validate_scaled, X_test_scaled)"
   ]
  },
  {
   "cell_type": "code",
   "execution_count": 7,
   "id": "028364a0",
   "metadata": {},
   "outputs": [],
   "source": [
    "# 1. Predict logerror_pred_mean\n",
    "# I create here new columns in the y_ data sets to hold the baseline value I am working with.\n",
    "logerror_pred_mean = y_train_scaled.logerror.mean()\n",
    "y_train_scaled['logerror_pred_mean'] = round(logerror_pred_mean, 5)\n",
    "y_validate_scaled['logerror_pred_mean'] = round(logerror_pred_mean,5)\n",
    "y_test_scaled['logerror_pred_mean'] = round(logerror_pred_mean,5)"
   ]
  },
  {
   "cell_type": "code",
   "execution_count": 8,
   "id": "864ea08c",
   "metadata": {
    "scrolled": true
   },
   "outputs": [
    {
     "data": {
      "text/html": [
       "<div>\n",
       "<style scoped>\n",
       "    .dataframe tbody tr th:only-of-type {\n",
       "        vertical-align: middle;\n",
       "    }\n",
       "\n",
       "    .dataframe tbody tr th {\n",
       "        vertical-align: top;\n",
       "    }\n",
       "\n",
       "    .dataframe thead th {\n",
       "        text-align: right;\n",
       "    }\n",
       "</style>\n",
       "<table border=\"1\" class=\"dataframe\">\n",
       "  <thead>\n",
       "    <tr style=\"text-align: right;\">\n",
       "      <th></th>\n",
       "      <th>logerror</th>\n",
       "      <th>logerror_pred_mean</th>\n",
       "    </tr>\n",
       "  </thead>\n",
       "  <tbody>\n",
       "    <tr>\n",
       "      <th>0</th>\n",
       "      <td>0.600496</td>\n",
       "      <td>0.60213</td>\n",
       "    </tr>\n",
       "    <tr>\n",
       "      <th>1</th>\n",
       "      <td>0.606472</td>\n",
       "      <td>0.60213</td>\n",
       "    </tr>\n",
       "    <tr>\n",
       "      <th>2</th>\n",
       "      <td>0.615869</td>\n",
       "      <td>0.60213</td>\n",
       "    </tr>\n",
       "    <tr>\n",
       "      <th>3</th>\n",
       "      <td>0.599217</td>\n",
       "      <td>0.60213</td>\n",
       "    </tr>\n",
       "    <tr>\n",
       "      <th>4</th>\n",
       "      <td>0.595534</td>\n",
       "      <td>0.60213</td>\n",
       "    </tr>\n",
       "    <tr>\n",
       "      <th>...</th>\n",
       "      <td>...</td>\n",
       "      <td>...</td>\n",
       "    </tr>\n",
       "    <tr>\n",
       "      <th>22156</th>\n",
       "      <td>0.593047</td>\n",
       "      <td>0.60213</td>\n",
       "    </tr>\n",
       "    <tr>\n",
       "      <th>22157</th>\n",
       "      <td>0.597474</td>\n",
       "      <td>0.60213</td>\n",
       "    </tr>\n",
       "    <tr>\n",
       "      <th>22158</th>\n",
       "      <td>0.601797</td>\n",
       "      <td>0.60213</td>\n",
       "    </tr>\n",
       "    <tr>\n",
       "      <th>22159</th>\n",
       "      <td>0.598466</td>\n",
       "      <td>0.60213</td>\n",
       "    </tr>\n",
       "    <tr>\n",
       "      <th>22160</th>\n",
       "      <td>0.588848</td>\n",
       "      <td>0.60213</td>\n",
       "    </tr>\n",
       "  </tbody>\n",
       "</table>\n",
       "<p>22161 rows × 2 columns</p>\n",
       "</div>"
      ],
      "text/plain": [
       "       logerror  logerror_pred_mean\n",
       "0      0.600496             0.60213\n",
       "1      0.606472             0.60213\n",
       "2      0.615869             0.60213\n",
       "3      0.599217             0.60213\n",
       "4      0.595534             0.60213\n",
       "...         ...                 ...\n",
       "22156  0.593047             0.60213\n",
       "22157  0.597474             0.60213\n",
       "22158  0.601797             0.60213\n",
       "22159  0.598466             0.60213\n",
       "22160  0.588848             0.60213\n",
       "\n",
       "[22161 rows x 2 columns]"
      ]
     },
     "execution_count": 8,
     "metadata": {},
     "output_type": "execute_result"
    }
   ],
   "source": [
    "y_train_scaled\n"
   ]
  },
  {
   "cell_type": "code",
   "execution_count": 9,
   "id": "9d8d93a5",
   "metadata": {},
   "outputs": [
    {
     "data": {
      "text/html": [
       "<div>\n",
       "<style scoped>\n",
       "    .dataframe tbody tr th:only-of-type {\n",
       "        vertical-align: middle;\n",
       "    }\n",
       "\n",
       "    .dataframe tbody tr th {\n",
       "        vertical-align: top;\n",
       "    }\n",
       "\n",
       "    .dataframe thead th {\n",
       "        text-align: right;\n",
       "    }\n",
       "</style>\n",
       "<table border=\"1\" class=\"dataframe\">\n",
       "  <thead>\n",
       "    <tr style=\"text-align: right;\">\n",
       "      <th></th>\n",
       "      <th>logerror</th>\n",
       "      <th>logerror_pred_mean</th>\n",
       "    </tr>\n",
       "  </thead>\n",
       "  <tbody>\n",
       "    <tr>\n",
       "      <th>0</th>\n",
       "      <td>0.604279</td>\n",
       "      <td>0.60213</td>\n",
       "    </tr>\n",
       "    <tr>\n",
       "      <th>1</th>\n",
       "      <td>0.596996</td>\n",
       "      <td>0.60213</td>\n",
       "    </tr>\n",
       "    <tr>\n",
       "      <th>2</th>\n",
       "      <td>0.602457</td>\n",
       "      <td>0.60213</td>\n",
       "    </tr>\n",
       "    <tr>\n",
       "      <th>3</th>\n",
       "      <td>0.614430</td>\n",
       "      <td>0.60213</td>\n",
       "    </tr>\n",
       "    <tr>\n",
       "      <th>4</th>\n",
       "      <td>0.604331</td>\n",
       "      <td>0.60213</td>\n",
       "    </tr>\n",
       "    <tr>\n",
       "      <th>...</th>\n",
       "      <td>...</td>\n",
       "      <td>...</td>\n",
       "    </tr>\n",
       "    <tr>\n",
       "      <th>9493</th>\n",
       "      <td>0.610471</td>\n",
       "      <td>0.60213</td>\n",
       "    </tr>\n",
       "    <tr>\n",
       "      <th>9494</th>\n",
       "      <td>0.594626</td>\n",
       "      <td>0.60213</td>\n",
       "    </tr>\n",
       "    <tr>\n",
       "      <th>9495</th>\n",
       "      <td>0.596111</td>\n",
       "      <td>0.60213</td>\n",
       "    </tr>\n",
       "    <tr>\n",
       "      <th>9496</th>\n",
       "      <td>0.601831</td>\n",
       "      <td>0.60213</td>\n",
       "    </tr>\n",
       "    <tr>\n",
       "      <th>9497</th>\n",
       "      <td>0.604491</td>\n",
       "      <td>0.60213</td>\n",
       "    </tr>\n",
       "  </tbody>\n",
       "</table>\n",
       "<p>9498 rows × 2 columns</p>\n",
       "</div>"
      ],
      "text/plain": [
       "      logerror  logerror_pred_mean\n",
       "0     0.604279             0.60213\n",
       "1     0.596996             0.60213\n",
       "2     0.602457             0.60213\n",
       "3     0.614430             0.60213\n",
       "4     0.604331             0.60213\n",
       "...        ...                 ...\n",
       "9493  0.610471             0.60213\n",
       "9494  0.594626             0.60213\n",
       "9495  0.596111             0.60213\n",
       "9496  0.601831             0.60213\n",
       "9497  0.604491             0.60213\n",
       "\n",
       "[9498 rows x 2 columns]"
      ]
     },
     "execution_count": 9,
     "metadata": {},
     "output_type": "execute_result"
    }
   ],
   "source": [
    "y_validate_scaled"
   ]
  },
  {
   "cell_type": "code",
   "execution_count": 10,
   "id": "380aeaa6",
   "metadata": {},
   "outputs": [
    {
     "name": "stdout",
     "output_type": "stream",
     "text": [
      "RMSE using Mean\n",
      "Train/In-Sample:  0.02 \n",
      "Validate/Out-of-Sample:  0.02\n"
     ]
    }
   ],
   "source": [
    "# 2. RMSE of logerror_pred_mean\n",
    "# Here, I calculate the Root Mean Squared Error of the baseline and print it\n",
    "from sklearn.metrics import mean_squared_error\n",
    "\n",
    "rmse_train = mean_squared_error(y_train_scaled.logerror,\n",
    "                                y_train_scaled.logerror_pred_mean) ** .5\n",
    "rmse_validate = mean_squared_error(y_validate_scaled.logerror, y_validate_scaled.logerror_pred_mean) ** (0.5)\n",
    "\n",
    "print(\"RMSE using Mean\\nTrain/In-Sample: \", round(rmse_train, 2), \n",
    "      \"\\nValidate/Out-of-Sample: \", round(rmse_validate, 2))"
   ]
  },
  {
   "cell_type": "code",
   "execution_count": 11,
   "id": "1cd2c94a",
   "metadata": {},
   "outputs": [
    {
     "data": {
      "text/html": [
       "<div>\n",
       "<style scoped>\n",
       "    .dataframe tbody tr th:only-of-type {\n",
       "        vertical-align: middle;\n",
       "    }\n",
       "\n",
       "    .dataframe tbody tr th {\n",
       "        vertical-align: top;\n",
       "    }\n",
       "\n",
       "    .dataframe thead th {\n",
       "        text-align: right;\n",
       "    }\n",
       "</style>\n",
       "<table border=\"1\" class=\"dataframe\">\n",
       "  <thead>\n",
       "    <tr style=\"text-align: right;\">\n",
       "      <th></th>\n",
       "      <th>model</th>\n",
       "      <th>RMSE_train</th>\n",
       "      <th>RMSE_validate</th>\n",
       "    </tr>\n",
       "  </thead>\n",
       "  <tbody>\n",
       "    <tr>\n",
       "      <th>0</th>\n",
       "      <td>mean_baseline</td>\n",
       "      <td>0.018968</td>\n",
       "      <td>0.018994</td>\n",
       "    </tr>\n",
       "  </tbody>\n",
       "</table>\n",
       "</div>"
      ],
      "text/plain": [
       "           model  RMSE_train  RMSE_validate\n",
       "0  mean_baseline    0.018968       0.018994"
      ]
     },
     "execution_count": 11,
     "metadata": {},
     "output_type": "execute_result"
    }
   ],
   "source": [
    "# Here, I create a DataFrame to insert the evaluation metrics of the different models; this datafram will be \n",
    "# taken in by the modeling function below and expanded on.\n",
    "metric_df = pd.DataFrame(data=[\n",
    "            {\n",
    "                'model': 'mean_baseline', \n",
    "                'RMSE_train': rmse_train,\n",
    "                'RMSE_validate': rmse_validate\n",
    "                }\n",
    "            ])\n",
    "metric_df"
   ]
  },
  {
   "cell_type": "code",
   "execution_count": 12,
   "id": "93039d99",
   "metadata": {},
   "outputs": [],
   "source": [
    "metric_df = brian_model.run_all_models_on_all_data(X_train_kbest, y_train_scaled, X_validate_kbest, y_validate_scaled, X_train_rfe, X_validate_rfe, X_test_kbest, X_test_rfe, metric_df)"
   ]
  },
  {
   "cell_type": "code",
   "execution_count": 13,
   "id": "3cb9d2bf",
   "metadata": {},
   "outputs": [
    {
     "data": {
      "text/html": [
       "<div>\n",
       "<style scoped>\n",
       "    .dataframe tbody tr th:only-of-type {\n",
       "        vertical-align: middle;\n",
       "    }\n",
       "\n",
       "    .dataframe tbody tr th {\n",
       "        vertical-align: top;\n",
       "    }\n",
       "\n",
       "    .dataframe thead th {\n",
       "        text-align: right;\n",
       "    }\n",
       "</style>\n",
       "<table border=\"1\" class=\"dataframe\">\n",
       "  <thead>\n",
       "    <tr style=\"text-align: right;\">\n",
       "      <th></th>\n",
       "      <th>model</th>\n",
       "      <th>RMSE_train</th>\n",
       "      <th>RMSE_validate</th>\n",
       "    </tr>\n",
       "  </thead>\n",
       "  <tbody>\n",
       "    <tr>\n",
       "      <th>0</th>\n",
       "      <td>mean_baseline</td>\n",
       "      <td>0.018968</td>\n",
       "      <td>0.018994</td>\n",
       "    </tr>\n",
       "    <tr>\n",
       "      <th>1</th>\n",
       "      <td>OLS Regressor KBEST</td>\n",
       "      <td>0.018949</td>\n",
       "      <td>0.018989</td>\n",
       "    </tr>\n",
       "    <tr>\n",
       "      <th>2</th>\n",
       "      <td>OLS Regressor RFE</td>\n",
       "      <td>0.018944</td>\n",
       "      <td>0.018993</td>\n",
       "    </tr>\n",
       "    <tr>\n",
       "      <th>3</th>\n",
       "      <td>Lasso_alpha1_KBEST</td>\n",
       "      <td>0.018968</td>\n",
       "      <td>0.018994</td>\n",
       "    </tr>\n",
       "    <tr>\n",
       "      <th>4</th>\n",
       "      <td>Lasso_alpha1_RFE</td>\n",
       "      <td>0.018968</td>\n",
       "      <td>0.018994</td>\n",
       "    </tr>\n",
       "    <tr>\n",
       "      <th>5</th>\n",
       "      <td>glm_compound_kbest</td>\n",
       "      <td>0.018952</td>\n",
       "      <td>0.018989</td>\n",
       "    </tr>\n",
       "    <tr>\n",
       "      <th>6</th>\n",
       "      <td>glm_compound_rfe</td>\n",
       "      <td>0.018953</td>\n",
       "      <td>0.018993</td>\n",
       "    </tr>\n",
       "    <tr>\n",
       "      <th>7</th>\n",
       "      <td>quadratic_kbest</td>\n",
       "      <td>0.018929</td>\n",
       "      <td>0.018993</td>\n",
       "    </tr>\n",
       "    <tr>\n",
       "      <th>8</th>\n",
       "      <td>quadratic_rfe</td>\n",
       "      <td>0.018935</td>\n",
       "      <td>0.019002</td>\n",
       "    </tr>\n",
       "  </tbody>\n",
       "</table>\n",
       "</div>"
      ],
      "text/plain": [
       "                 model  RMSE_train  RMSE_validate\n",
       "0        mean_baseline    0.018968       0.018994\n",
       "1  OLS Regressor KBEST    0.018949       0.018989\n",
       "2    OLS Regressor RFE    0.018944       0.018993\n",
       "3   Lasso_alpha1_KBEST    0.018968       0.018994\n",
       "4     Lasso_alpha1_RFE    0.018968       0.018994\n",
       "5   glm_compound_kbest    0.018952       0.018989\n",
       "6     glm_compound_rfe    0.018953       0.018993\n",
       "7      quadratic_kbest    0.018929       0.018993\n",
       "8        quadratic_rfe    0.018935       0.019002"
      ]
     },
     "execution_count": 13,
     "metadata": {},
     "output_type": "execute_result"
    }
   ],
   "source": [
    "metric_df"
   ]
  },
  {
   "cell_type": "markdown",
   "id": "c2a20326",
   "metadata": {},
   "source": [
    "# Next step: add clusters to X_train_scaled and X_etc_scaled"
   ]
  },
  {
   "cell_type": "markdown",
   "id": "29d51c33",
   "metadata": {},
   "source": [
    "# Then: encode the clusters onto the df and rerun kbest and rfe"
   ]
  },
  {
   "cell_type": "code",
   "execution_count": 14,
   "id": "6c4e9309",
   "metadata": {},
   "outputs": [],
   "source": [
    "deal_cluster_df_train = X_train_scaled[['sq_ft', 'price_per_sq_ft', 'tax_rate']]\n",
    "deal_cluster_df_validate = X_validate_scaled[['sq_ft', 'price_per_sq_ft', 'tax_rate']]\n",
    "deal_cluster_df_test = X_test_scaled[['sq_ft', 'price_per_sq_ft', 'tax_rate']]"
   ]
  },
  {
   "cell_type": "code",
   "execution_count": 15,
   "id": "922d91b9",
   "metadata": {},
   "outputs": [
    {
     "data": {
      "text/plain": [
       "array([0, 4, 0, ..., 1, 3, 4], dtype=int32)"
      ]
     },
     "execution_count": 15,
     "metadata": {},
     "output_type": "execute_result"
    }
   ],
   "source": [
    "# sklearn implementation of KMeans\n",
    "\n",
    "#define the thing\n",
    "kmeans_deal_cluster_df = KMeans(n_clusters=5, random_state = 123, verbose = 0)\n",
    "\n",
    "# fit the thing\n",
    "kmeans_deal_cluster_df.fit(deal_cluster_df_train)\n",
    "\n",
    "# Use (predict using) the thing \n",
    "kmeans_deal_cluster_df.predict(deal_cluster_df_train)"
   ]
  },
  {
   "cell_type": "markdown",
   "id": "bbfbca22",
   "metadata": {},
   "source": [
    "## Adding a cluster column to each pertinent df"
   ]
  },
  {
   "cell_type": "code",
   "execution_count": 16,
   "id": "106b8dd0",
   "metadata": {},
   "outputs": [],
   "source": [
    "X_train_scaled['deal_cluster'] = kmeans_deal_cluster_df.predict(deal_cluster_df_train)\n",
    "X_train_scaled['deal_cluster'] = np.where(X_train_scaled.deal_cluster == 0,'large_homes',np.where(\\\n",
    "                                X_train_scaled.deal_cluster == 1,'small_to_med_cheaper',\\\n",
    "                                np.where(X_train_scaled.deal_cluster == 2, 'small_cheap_lowtax',\\\n",
    "                                np.where(X_train_scaled.deal_cluster == 3,'small_expensive','small_cheap_midtax'))))\n",
    "\n"
   ]
  },
  {
   "cell_type": "code",
   "execution_count": 17,
   "id": "0d0f5878",
   "metadata": {},
   "outputs": [],
   "source": [
    "X_validate_scaled['deal_cluster'] = kmeans_deal_cluster_df.predict(deal_cluster_df_validate)\n",
    "X_validate_scaled['deal_cluster'] = np.where(X_validate_scaled.deal_cluster == 0,'large_homes',np.where(\\\n",
    "                                X_validate_scaled.deal_cluster == 1,'small_to_med_cheaper',\\\n",
    "                                np.where(X_validate_scaled.deal_cluster == 2, 'small_cheap_lowtax',\\\n",
    "                                np.where(X_validate_scaled.deal_cluster == 3,'small_expensive','small_cheap_midtax'))))\n",
    "\n"
   ]
  },
  {
   "cell_type": "code",
   "execution_count": 18,
   "id": "5d168b3c",
   "metadata": {},
   "outputs": [],
   "source": [
    "X_test_scaled['deal_cluster'] = kmeans_deal_cluster_df.predict(deal_cluster_df_test)\n",
    "X_test_scaled['deal_cluster'] = np.where(X_test_scaled.deal_cluster == 0,'large_homes',np.where(\\\n",
    "                                X_test_scaled.deal_cluster == 1,'small_to_med_cheaper',\\\n",
    "                                np.where(X_test_scaled.deal_cluster == 2, 'small_cheap_lowtax',\\\n",
    "                                np.where(X_test_scaled.deal_cluster == 3,'small_expensive','small_cheap_midtax'))))\n",
    "\n"
   ]
  },
  {
   "cell_type": "markdown",
   "id": "cdd2efd1",
   "metadata": {},
   "source": [
    "## Encoding the clusters onto the respective dfs"
   ]
  },
  {
   "cell_type": "code",
   "execution_count": 19,
   "id": "745bdc3c",
   "metadata": {},
   "outputs": [],
   "source": [
    "def encode_clusters(df,cluster):\n",
    "    '''\n",
    "    This is encoding the cluster column for later modelling; it drops the original column \n",
    "    once it has been encoded\n",
    "    \n",
    "    '''\n",
    "    # ordinal encoder? sklearn.OrdinalEncoder\n",
    "\n",
    "    # I had originally put the columns to be dummied inside the function. They are now in the inputs\n",
    "    # cols_to_dummy = df['county']\n",
    "    # df = pd.get_dummies(df, columns=['county'], dummy_na=False, drop_first=False)\n",
    "        \n",
    "    dummy_df = pd.get_dummies(df[cluster], dummy_na=False, drop_first=False)\n",
    "\n",
    "    # Not requiring me to concatenate for some reason here.  \n",
    "    df = pd.concat([df, dummy_df], axis = 1)\n",
    "#     df = df.rename(columns={'county_Los_Angeles':'Los_Angeles','county_Orange':'Orange','county_Ventura':'Ventura'})\n",
    "    df = df.drop(columns='deal_cluster')\n",
    "    return df"
   ]
  },
  {
   "cell_type": "code",
   "execution_count": 20,
   "id": "43eee031",
   "metadata": {},
   "outputs": [],
   "source": [
    "X_train_scaled = encode_clusters(X_train_scaled,['deal_cluster'])"
   ]
  },
  {
   "cell_type": "code",
   "execution_count": 21,
   "id": "74d4070b",
   "metadata": {},
   "outputs": [],
   "source": [
    "X_validate_scaled = encode_clusters(X_validate_scaled,['deal_cluster'])"
   ]
  },
  {
   "cell_type": "code",
   "execution_count": 22,
   "id": "28da3047",
   "metadata": {},
   "outputs": [],
   "source": [
    "X_test_scaled = encode_clusters(X_test_scaled,['deal_cluster'])"
   ]
  },
  {
   "cell_type": "markdown",
   "id": "eb950de4",
   "metadata": {},
   "source": [
    "## Great, to here we are golden, the deal_clusters are encoded on the different dfs."
   ]
  },
  {
   "cell_type": "markdown",
   "id": "588f5073",
   "metadata": {},
   "source": [
    "### For a laugh, running feature engineering again to see if any cluster gets picked up..."
   ]
  },
  {
   "cell_type": "code",
   "execution_count": 23,
   "id": "08ea8e19",
   "metadata": {},
   "outputs": [
    {
     "data": {
      "text/plain": [
       "['bedrooms',\n",
       " 'condition',\n",
       " 'rooms',\n",
       " 'price_per_sq_ft',\n",
       " 'deal_cluster_small_to_med_cheaper']"
      ]
     },
     "execution_count": 23,
     "metadata": {},
     "output_type": "execute_result"
    }
   ],
   "source": [
    "# This cell runs my function in feature_engineering.py that selects for the top 'k' number \n",
    "# of features\n",
    "f_feature_cluster_maybe = brian_feature_engineering.select_kbest(X_train_scaled,y_train_scaled.drop(columns=['logerror_pred_mean', 'logerror_pred_lm_kbest',\n",
    "       'logerror_pred_lm_rfe', 'logerror_pred_lars_kbest',\n",
    "       'logerror_pred_lars_rfe', 'logerror_pred_glm_kbest',\n",
    "       'logerror_pred_glm_rfe', 'logerror_pred_lm2_kbest',\n",
    "       'logerror_pred_lm2_rfe']), 5)\n",
    "f_feature_cluster_maybe"
   ]
  },
  {
   "cell_type": "markdown",
   "id": "483aa7a6",
   "metadata": {},
   "source": [
    "### Incredibly, the kbest feature picker has chosen 1 of my clusters!"
   ]
  },
  {
   "cell_type": "code",
   "execution_count": 24,
   "id": "5dc65233",
   "metadata": {},
   "outputs": [
    {
     "data": {
      "text/plain": [
       "['lot_size', 'structure_value', 'tax_value', 'tax_amount', 'price_per_sq_ft']"
      ]
     },
     "execution_count": 24,
     "metadata": {},
     "output_type": "execute_result"
    }
   ],
   "source": [
    "rfe_feature_cluster_maybe = brian_feature_engineering.select_rfe(X_train_scaled,y_train_scaled.drop(columns=['logerror_pred_mean', 'logerror_pred_lm_kbest',\n",
    "       'logerror_pred_lm_rfe', 'logerror_pred_lars_kbest',\n",
    "       'logerror_pred_lars_rfe', 'logerror_pred_glm_kbest',\n",
    "       'logerror_pred_glm_rfe', 'logerror_pred_lm2_kbest',\n",
    "       'logerror_pred_lm2_rfe']), 5)\n",
    "rfe_feature_cluster_maybe"
   ]
  },
  {
   "cell_type": "code",
   "execution_count": 25,
   "id": "9352fc73",
   "metadata": {},
   "outputs": [],
   "source": [
    "kbest_vars = ['bedrooms','condition','rooms','price_per_sq_ft','deal_cluster_small_to_med_cheaper']\n",
    "rfe_vars = ['lot_size', 'structure_value', 'tax_value', 'tax_amount', 'price_per_sq_ft']\n",
    "\n",
    "X_train_kbest, X_validate_kbest, X_test_kbest, X_train_rfe, X_validate_rfe, X_test_rfe = \\\n",
    "brian_model.create_data_for_models_including_clusters(X_train_scaled, X_validate_scaled, X_test_scaled,\\\n",
    "kbest_vars, rfe_vars)"
   ]
  },
  {
   "cell_type": "code",
   "execution_count": 27,
   "id": "c9e95efe",
   "metadata": {},
   "outputs": [
    {
     "name": "stdout",
     "output_type": "stream",
     "text": [
      "RMSE using Mean\n",
      "Train/In-Sample:  0.02 \n",
      "Validate/Out-of-Sample:  0.02\n"
     ]
    }
   ],
   "source": [
    "# 2. RMSE of logerror_pred_mean\n",
    "# Here, I calculate the Root Mean Squared Error of the baseline and print it\n",
    "from sklearn.metrics import mean_squared_error\n",
    "\n",
    "rmse_train = mean_squared_error(y_train_scaled.logerror,\n",
    "                                y_train_scaled.logerror_pred_mean) ** .5\n",
    "rmse_validate = mean_squared_error(y_validate_scaled.logerror, y_validate_scaled.logerror_pred_mean) ** (0.5)\n",
    "\n",
    "print(\"RMSE using Mean\\nTrain/In-Sample: \", round(rmse_train, 2), \n",
    "      \"\\nValidate/Out-of-Sample: \", round(rmse_validate, 2))"
   ]
  },
  {
   "cell_type": "code",
   "execution_count": 28,
   "id": "529ce88b",
   "metadata": {
    "scrolled": true
   },
   "outputs": [
    {
     "data": {
      "text/html": [
       "<div>\n",
       "<style scoped>\n",
       "    .dataframe tbody tr th:only-of-type {\n",
       "        vertical-align: middle;\n",
       "    }\n",
       "\n",
       "    .dataframe tbody tr th {\n",
       "        vertical-align: top;\n",
       "    }\n",
       "\n",
       "    .dataframe thead th {\n",
       "        text-align: right;\n",
       "    }\n",
       "</style>\n",
       "<table border=\"1\" class=\"dataframe\">\n",
       "  <thead>\n",
       "    <tr style=\"text-align: right;\">\n",
       "      <th></th>\n",
       "      <th>model</th>\n",
       "      <th>RMSE_train</th>\n",
       "      <th>RMSE_validate</th>\n",
       "    </tr>\n",
       "  </thead>\n",
       "  <tbody>\n",
       "    <tr>\n",
       "      <th>0</th>\n",
       "      <td>mean_baseline</td>\n",
       "      <td>0.018968</td>\n",
       "      <td>0.018994</td>\n",
       "    </tr>\n",
       "  </tbody>\n",
       "</table>\n",
       "</div>"
      ],
      "text/plain": [
       "           model  RMSE_train  RMSE_validate\n",
       "0  mean_baseline    0.018968       0.018994"
      ]
     },
     "execution_count": 28,
     "metadata": {},
     "output_type": "execute_result"
    }
   ],
   "source": [
    "# Here, I create a DataFrame to insert the evaluation metrics of the different models; this datafram will be \n",
    "# taken in by the modeling function below and expanded on.\n",
    "metric_df = pd.DataFrame(data=[\n",
    "            {\n",
    "                'model': 'mean_baseline', \n",
    "                'RMSE_train': rmse_train,\n",
    "                'RMSE_validate': rmse_validate\n",
    "                }\n",
    "            ])\n",
    "metric_df"
   ]
  },
  {
   "cell_type": "code",
   "execution_count": 29,
   "id": "52afb2ad",
   "metadata": {},
   "outputs": [],
   "source": [
    "metric_df = brian_model.run_all_models_on_all_data(X_train_kbest, y_train_scaled, X_validate_kbest, y_validate_scaled, X_train_rfe, X_validate_rfe, X_test_kbest, X_test_rfe, metric_df)"
   ]
  },
  {
   "cell_type": "code",
   "execution_count": 30,
   "id": "8fb60205",
   "metadata": {},
   "outputs": [
    {
     "data": {
      "text/html": [
       "<div>\n",
       "<style scoped>\n",
       "    .dataframe tbody tr th:only-of-type {\n",
       "        vertical-align: middle;\n",
       "    }\n",
       "\n",
       "    .dataframe tbody tr th {\n",
       "        vertical-align: top;\n",
       "    }\n",
       "\n",
       "    .dataframe thead th {\n",
       "        text-align: right;\n",
       "    }\n",
       "</style>\n",
       "<table border=\"1\" class=\"dataframe\">\n",
       "  <thead>\n",
       "    <tr style=\"text-align: right;\">\n",
       "      <th></th>\n",
       "      <th>model</th>\n",
       "      <th>RMSE_train</th>\n",
       "      <th>RMSE_validate</th>\n",
       "    </tr>\n",
       "  </thead>\n",
       "  <tbody>\n",
       "    <tr>\n",
       "      <th>0</th>\n",
       "      <td>mean_baseline</td>\n",
       "      <td>0.018968</td>\n",
       "      <td>0.018994</td>\n",
       "    </tr>\n",
       "    <tr>\n",
       "      <th>1</th>\n",
       "      <td>OLS Regressor KBEST</td>\n",
       "      <td>0.018948</td>\n",
       "      <td>0.018992</td>\n",
       "    </tr>\n",
       "    <tr>\n",
       "      <th>2</th>\n",
       "      <td>OLS Regressor RFE</td>\n",
       "      <td>0.018947</td>\n",
       "      <td>0.018989</td>\n",
       "    </tr>\n",
       "    <tr>\n",
       "      <th>3</th>\n",
       "      <td>Lasso_alpha1_KBEST</td>\n",
       "      <td>0.018968</td>\n",
       "      <td>0.018994</td>\n",
       "    </tr>\n",
       "    <tr>\n",
       "      <th>4</th>\n",
       "      <td>Lasso_alpha1_RFE</td>\n",
       "      <td>0.018968</td>\n",
       "      <td>0.018994</td>\n",
       "    </tr>\n",
       "    <tr>\n",
       "      <th>5</th>\n",
       "      <td>glm_compound_kbest</td>\n",
       "      <td>0.018952</td>\n",
       "      <td>0.018993</td>\n",
       "    </tr>\n",
       "    <tr>\n",
       "      <th>6</th>\n",
       "      <td>glm_compound_rfe</td>\n",
       "      <td>0.018957</td>\n",
       "      <td>0.018990</td>\n",
       "    </tr>\n",
       "    <tr>\n",
       "      <th>7</th>\n",
       "      <td>quadratic_kbest</td>\n",
       "      <td>0.018929</td>\n",
       "      <td>0.019013</td>\n",
       "    </tr>\n",
       "    <tr>\n",
       "      <th>8</th>\n",
       "      <td>quadratic_rfe</td>\n",
       "      <td>0.018942</td>\n",
       "      <td>0.018988</td>\n",
       "    </tr>\n",
       "  </tbody>\n",
       "</table>\n",
       "</div>"
      ],
      "text/plain": [
       "                 model  RMSE_train  RMSE_validate\n",
       "0        mean_baseline    0.018968       0.018994\n",
       "1  OLS Regressor KBEST    0.018948       0.018992\n",
       "2    OLS Regressor RFE    0.018947       0.018989\n",
       "3   Lasso_alpha1_KBEST    0.018968       0.018994\n",
       "4     Lasso_alpha1_RFE    0.018968       0.018994\n",
       "5   glm_compound_kbest    0.018952       0.018993\n",
       "6     glm_compound_rfe    0.018957       0.018990\n",
       "7      quadratic_kbest    0.018929       0.019013\n",
       "8        quadratic_rfe    0.018942       0.018988"
      ]
     },
     "execution_count": 30,
     "metadata": {},
     "output_type": "execute_result"
    }
   ],
   "source": [
    "metric_df"
   ]
  },
  {
   "cell_type": "markdown",
   "id": "11b283dd",
   "metadata": {},
   "source": [
    "## Next up: make a metric_df that runs all the models JUST on the cluster data."
   ]
  },
  {
   "cell_type": "code",
   "execution_count": 31,
   "id": "f0c4f8cb",
   "metadata": {},
   "outputs": [
    {
     "data": {
      "text/plain": [
       "Index(['bathrooms', 'bedrooms', 'condition', 'sq_ft', 'full_baths', 'latitude',\n",
       "       'longitude', 'lot_size', 'rooms', 'structure_value', 'tax_value',\n",
       "       'year_assessed', 'land_value', 'tax_amount', 'age',\n",
       "       'sq_ft_per_bathroom', 'sq_ft_per_bedroom', 'sq_ft_per_room',\n",
       "       'has_half_bath', 'tax_rate', 'price_per_sq_ft', 'Los_Angeles', 'Orange',\n",
       "       'Ventura', 'deal_cluster_large_homes',\n",
       "       'deal_cluster_small_cheap_lowtax', 'deal_cluster_small_cheap_midtax',\n",
       "       'deal_cluster_small_expensive', 'deal_cluster_small_to_med_cheaper'],\n",
       "      dtype='object')"
      ]
     },
     "execution_count": 31,
     "metadata": {},
     "output_type": "execute_result"
    }
   ],
   "source": [
    "X_train_scaled.columns\n"
   ]
  },
  {
   "cell_type": "code",
   "execution_count": 32,
   "id": "0553847e",
   "metadata": {},
   "outputs": [],
   "source": [
    "kbest_vars = ['deal_cluster_large_homes',\n",
    "       'deal_cluster_small_cheap_lowtax', 'deal_cluster_small_cheap_midtax',\n",
    "       'deal_cluster_small_expensive', 'deal_cluster_small_to_med_cheaper']\n",
    "rfe_vars = ['deal_cluster_large_homes',\n",
    "       'deal_cluster_small_cheap_lowtax', 'deal_cluster_small_cheap_midtax',\n",
    "       'deal_cluster_small_expensive', 'deal_cluster_small_to_med_cheaper']\n",
    "\n",
    "X_train_kbest, X_validate_kbest, X_test_kbest, X_train_rfe, X_validate_rfe, X_test_rfe = \\\n",
    "brian_model.create_data_for_models_including_clusters(X_train_scaled, X_validate_scaled, X_test_scaled,\\\n",
    "kbest_vars, rfe_vars)"
   ]
  },
  {
   "cell_type": "code",
   "execution_count": 33,
   "id": "56832fc9",
   "metadata": {},
   "outputs": [
    {
     "name": "stdout",
     "output_type": "stream",
     "text": [
      "RMSE using Mean\n",
      "Train/In-Sample:  0.02 \n",
      "Validate/Out-of-Sample:  0.02\n"
     ]
    }
   ],
   "source": [
    "# 2. RMSE of logerror_pred_mean\n",
    "# Here, I calculate the Root Mean Squared Error of the baseline and print it\n",
    "from sklearn.metrics import mean_squared_error\n",
    "\n",
    "rmse_train = mean_squared_error(y_train_scaled.logerror,\n",
    "                                y_train_scaled.logerror_pred_mean) ** .5\n",
    "rmse_validate = mean_squared_error(y_validate_scaled.logerror, y_validate_scaled.logerror_pred_mean) ** (0.5)\n",
    "\n",
    "print(\"RMSE using Mean\\nTrain/In-Sample: \", round(rmse_train, 2), \n",
    "      \"\\nValidate/Out-of-Sample: \", round(rmse_validate, 2))"
   ]
  },
  {
   "cell_type": "code",
   "execution_count": 34,
   "id": "119b711d",
   "metadata": {
    "scrolled": false
   },
   "outputs": [
    {
     "data": {
      "text/html": [
       "<div>\n",
       "<style scoped>\n",
       "    .dataframe tbody tr th:only-of-type {\n",
       "        vertical-align: middle;\n",
       "    }\n",
       "\n",
       "    .dataframe tbody tr th {\n",
       "        vertical-align: top;\n",
       "    }\n",
       "\n",
       "    .dataframe thead th {\n",
       "        text-align: right;\n",
       "    }\n",
       "</style>\n",
       "<table border=\"1\" class=\"dataframe\">\n",
       "  <thead>\n",
       "    <tr style=\"text-align: right;\">\n",
       "      <th></th>\n",
       "      <th>model</th>\n",
       "      <th>RMSE_train</th>\n",
       "      <th>RMSE_validate</th>\n",
       "    </tr>\n",
       "  </thead>\n",
       "  <tbody>\n",
       "    <tr>\n",
       "      <th>0</th>\n",
       "      <td>mean_baseline</td>\n",
       "      <td>0.018968</td>\n",
       "      <td>0.018994</td>\n",
       "    </tr>\n",
       "  </tbody>\n",
       "</table>\n",
       "</div>"
      ],
      "text/plain": [
       "           model  RMSE_train  RMSE_validate\n",
       "0  mean_baseline    0.018968       0.018994"
      ]
     },
     "execution_count": 34,
     "metadata": {},
     "output_type": "execute_result"
    }
   ],
   "source": [
    "# Here, I create a DataFrame to insert the evaluation metrics of the different models; this datafram will be \n",
    "# taken in by the modeling function below and expanded on.\n",
    "metric_df = pd.DataFrame(data=[\n",
    "            {\n",
    "                'model': 'mean_baseline', \n",
    "                'RMSE_train': rmse_train,\n",
    "                'RMSE_validate': rmse_validate\n",
    "                }\n",
    "            ])\n",
    "metric_df"
   ]
  },
  {
   "cell_type": "code",
   "execution_count": 35,
   "id": "eb3035bc",
   "metadata": {},
   "outputs": [],
   "source": [
    "metric_df = brian_model.run_all_models_on_all_data(X_train_kbest, y_train_scaled, X_validate_kbest, y_validate_scaled, X_train_rfe, X_validate_rfe, X_test_kbest, X_test_rfe, metric_df)"
   ]
  },
  {
   "cell_type": "markdown",
   "id": "d174097c",
   "metadata": {},
   "source": [
    "### Note that the kbest and rfe features are identical in this code--for expediency, I have not (yet) changed the code for running clusters only, and therefore the results between \"kbest\" features and \"rfe\" features are identical (they're the same features).  I future iteration of the project will address this."
   ]
  },
  {
   "cell_type": "code",
   "execution_count": 36,
   "id": "7b311f7b",
   "metadata": {},
   "outputs": [
    {
     "data": {
      "text/html": [
       "<div>\n",
       "<style scoped>\n",
       "    .dataframe tbody tr th:only-of-type {\n",
       "        vertical-align: middle;\n",
       "    }\n",
       "\n",
       "    .dataframe tbody tr th {\n",
       "        vertical-align: top;\n",
       "    }\n",
       "\n",
       "    .dataframe thead th {\n",
       "        text-align: right;\n",
       "    }\n",
       "</style>\n",
       "<table border=\"1\" class=\"dataframe\">\n",
       "  <thead>\n",
       "    <tr style=\"text-align: right;\">\n",
       "      <th></th>\n",
       "      <th>model</th>\n",
       "      <th>RMSE_train</th>\n",
       "      <th>RMSE_validate</th>\n",
       "    </tr>\n",
       "  </thead>\n",
       "  <tbody>\n",
       "    <tr>\n",
       "      <th>0</th>\n",
       "      <td>mean_baseline</td>\n",
       "      <td>0.018968</td>\n",
       "      <td>0.018994</td>\n",
       "    </tr>\n",
       "    <tr>\n",
       "      <th>1</th>\n",
       "      <td>OLS Regressor KBEST</td>\n",
       "      <td>0.018955</td>\n",
       "      <td>0.018994</td>\n",
       "    </tr>\n",
       "    <tr>\n",
       "      <th>2</th>\n",
       "      <td>OLS Regressor RFE</td>\n",
       "      <td>0.018955</td>\n",
       "      <td>0.018994</td>\n",
       "    </tr>\n",
       "    <tr>\n",
       "      <th>3</th>\n",
       "      <td>Lasso_alpha1_KBEST</td>\n",
       "      <td>0.018968</td>\n",
       "      <td>0.018994</td>\n",
       "    </tr>\n",
       "    <tr>\n",
       "      <th>4</th>\n",
       "      <td>Lasso_alpha1_RFE</td>\n",
       "      <td>0.018968</td>\n",
       "      <td>0.018994</td>\n",
       "    </tr>\n",
       "    <tr>\n",
       "      <th>5</th>\n",
       "      <td>glm_compound_kbest</td>\n",
       "      <td>0.018955</td>\n",
       "      <td>0.018994</td>\n",
       "    </tr>\n",
       "    <tr>\n",
       "      <th>6</th>\n",
       "      <td>glm_compound_rfe</td>\n",
       "      <td>0.018955</td>\n",
       "      <td>0.018994</td>\n",
       "    </tr>\n",
       "    <tr>\n",
       "      <th>7</th>\n",
       "      <td>quadratic_kbest</td>\n",
       "      <td>0.018955</td>\n",
       "      <td>0.018995</td>\n",
       "    </tr>\n",
       "    <tr>\n",
       "      <th>8</th>\n",
       "      <td>quadratic_rfe</td>\n",
       "      <td>0.018955</td>\n",
       "      <td>0.018995</td>\n",
       "    </tr>\n",
       "  </tbody>\n",
       "</table>\n",
       "</div>"
      ],
      "text/plain": [
       "                 model  RMSE_train  RMSE_validate\n",
       "0        mean_baseline    0.018968       0.018994\n",
       "1  OLS Regressor KBEST    0.018955       0.018994\n",
       "2    OLS Regressor RFE    0.018955       0.018994\n",
       "3   Lasso_alpha1_KBEST    0.018968       0.018994\n",
       "4     Lasso_alpha1_RFE    0.018968       0.018994\n",
       "5   glm_compound_kbest    0.018955       0.018994\n",
       "6     glm_compound_rfe    0.018955       0.018994\n",
       "7      quadratic_kbest    0.018955       0.018995\n",
       "8        quadratic_rfe    0.018955       0.018995"
      ]
     },
     "execution_count": 36,
     "metadata": {},
     "output_type": "execute_result"
    }
   ],
   "source": [
    "metric_df"
   ]
  },
  {
   "cell_type": "markdown",
   "id": "95cb4488",
   "metadata": {},
   "source": [
    "## Takeaway: running the models on the clusters only yields a slightly better-than-baseline result, but barely.  And the kbest features above (which do actually include one of the clusters) yielded the best results when run on the glm_compound_kbest model (without significant difference to the validate results--the quadratic model run on kbest did return better results on train, but worse on validate, and I am therefore rejecting it).  "
   ]
  },
  {
   "cell_type": "markdown",
   "id": "286c4732",
   "metadata": {},
   "source": [
    "# Next up: Run the best model on the test data!\n",
    "- glm_compound_kbest model \n",
    "- glm_compound_kbest\t0.018952\t0.018993"
   ]
  },
  {
   "cell_type": "code",
   "execution_count": 39,
   "id": "c72ddad1",
   "metadata": {},
   "outputs": [
    {
     "name": "stdout",
     "output_type": "stream",
     "text": [
      "RMSE for Polynomial Model, degrees=2\n",
      "Test/Out of Sample:  0.018677779728719823\n"
     ]
    }
   ],
   "source": [
    "# Tweedie on KBEST features:\n",
    "\n",
    "# as seen in curriculum, the power ought to be set per distribution type\n",
    "# power = 0 is same as OLS\n",
    "\n",
    "glm = TweedieRegressor(power=1.4, alpha=0)\n",
    "\n",
    "\n",
    "# fit the model to our training data. We must specify the column in y_train, \n",
    "# since we have converted it to a dataframe from a series! \n",
    "glm.fit(X_train_kbest, y_train_scaled.logerror)\n",
    "\n",
    "# predict test\n",
    "y_test_scaled['logerror_pred_glm_kbest'] = glm.predict(X_test_kbest)\n",
    "\n",
    "# evaluate: rmse\n",
    "rmse_test = mean_squared_error(y_test_scaled.logerror, y_test_scaled.logerror_pred_glm_kbest) ** (1/2)\n",
    "\n",
    "# And a statement on the RMSE of the glm model run on test\n",
    "print(\"RMSE for Polynomial Model, degrees=2\\nTest/Out of Sample: \", rmse_test)"
   ]
  },
  {
   "cell_type": "code",
   "execution_count": 40,
   "id": "9cc8665e",
   "metadata": {},
   "outputs": [
    {
     "data": {
      "text/plain": [
       "0.015341628005061135"
      ]
     },
     "execution_count": 40,
     "metadata": {},
     "output_type": "execute_result"
    }
   ],
   "source": [
    "# This is a simple calculation of the improvement over baseline:\n",
    "(0.018968 - 0.018677) / 0.018968"
   ]
  },
  {
   "cell_type": "code",
   "execution_count": null,
   "id": "f9af8856",
   "metadata": {},
   "outputs": [],
   "source": []
  }
 ],
 "metadata": {
  "kernelspec": {
   "display_name": "Python 3",
   "language": "python",
   "name": "python3"
  },
  "language_info": {
   "codemirror_mode": {
    "name": "ipython",
    "version": 3
   },
   "file_extension": ".py",
   "mimetype": "text/x-python",
   "name": "python",
   "nbconvert_exporter": "python",
   "pygments_lexer": "ipython3",
   "version": "3.8.8"
  }
 },
 "nbformat": 4,
 "nbformat_minor": 5
}
