{
 "cells": [
  {
   "cell_type": "code",
   "execution_count": 1,
   "id": "ce4ee1ce",
   "metadata": {},
   "outputs": [],
   "source": [
    "import pandas as pd\n",
    "import numpy as np\n",
    "import os\n",
    "from env import host, user, password\n",
    "from sklearn.impute import SimpleImputer\n",
    "import matplotlib.pyplot as plt\n",
    "from scipy import stats\n",
    "import seaborn as sns\n",
    "import env\n",
    "from sklearn.model_selection import train_test_split\n",
    "from sklearn.preprocessing import MinMaxScaler\n",
    "\n",
    "from sklearn.impute import SimpleImputer\n",
    "import scipy\n",
    "import sklearn.linear_model\n",
    "import sklearn.preprocessing\n",
    "import warnings\n",
    "warnings.filterwarnings(\"ignore\")\n",
    "import wrangle\n",
    "import viz_explore\n",
    "import scipy.stats as stats\n",
    "import model\n",
    "\n",
    "from sklearn.cluster import KMeans"
   ]
  },
  {
   "cell_type": "code",
   "execution_count": 2,
   "id": "cf9bf15d",
   "metadata": {},
   "outputs": [],
   "source": [
    "# THE WRANGLE FUNCTION PERFORMS THE FOLLOWIN, IN BROAD STROKES:\n",
    "# 1. Get the data via SQL query\n",
    "# 2. Clean and prep the data\n",
    "# 3. Encode the appropriate columns (only ['county'] for now)\n",
    "# 4. Split the data: train, validate, test and X_ vs y_ splits as well\n",
    "# 5. Scale the data (all train, validate and test, and all X_ and y_ splits are scaled)\n",
    "\n",
    "df, train, validate, test, X_train, y_train, X_validate, y_validate, X_test, y_test, \\\n",
    "train_scaled, X_train_scaled, y_train_scaled, validate_scaled, X_validate_scaled, \\\n",
    "y_validate_scaled, test_scaled, X_test_scaled, y_test_scaled \\\n",
    "= wrangle.wrangle_zillow()"
   ]
  },
  {
   "cell_type": "code",
   "execution_count": 3,
   "id": "a52b8607",
   "metadata": {},
   "outputs": [
    {
     "data": {
      "text/html": [
       "<div>\n",
       "<style scoped>\n",
       "    .dataframe tbody tr th:only-of-type {\n",
       "        vertical-align: middle;\n",
       "    }\n",
       "\n",
       "    .dataframe tbody tr th {\n",
       "        vertical-align: top;\n",
       "    }\n",
       "\n",
       "    .dataframe thead th {\n",
       "        text-align: right;\n",
       "    }\n",
       "</style>\n",
       "<table border=\"1\" class=\"dataframe\">\n",
       "  <thead>\n",
       "    <tr style=\"text-align: right;\">\n",
       "      <th></th>\n",
       "      <th>parcelid</th>\n",
       "      <th>bathrooms</th>\n",
       "      <th>bedrooms</th>\n",
       "      <th>condition</th>\n",
       "      <th>sq_ft</th>\n",
       "      <th>full_baths</th>\n",
       "      <th>latitude</th>\n",
       "      <th>longitude</th>\n",
       "      <th>lot_size</th>\n",
       "      <th>census_tract</th>\n",
       "      <th>...</th>\n",
       "      <th>age</th>\n",
       "      <th>sq_ft_per_bathroom</th>\n",
       "      <th>sq_ft_per_bedroom</th>\n",
       "      <th>sq_ft_per_room</th>\n",
       "      <th>has_half_bath</th>\n",
       "      <th>tax_rate</th>\n",
       "      <th>price_per_sq_ft</th>\n",
       "      <th>Los_Angeles</th>\n",
       "      <th>Orange</th>\n",
       "      <th>Ventura</th>\n",
       "    </tr>\n",
       "  </thead>\n",
       "  <tbody>\n",
       "    <tr>\n",
       "      <th>0</th>\n",
       "      <td>0.000849</td>\n",
       "      <td>0.333333</td>\n",
       "      <td>0.333333</td>\n",
       "      <td>0.454545</td>\n",
       "      <td>0.515721</td>\n",
       "      <td>0.5</td>\n",
       "      <td>0.573098</td>\n",
       "      <td>0.520347</td>\n",
       "      <td>0.001129</td>\n",
       "      <td>0.000365</td>\n",
       "      <td>...</td>\n",
       "      <td>0.584</td>\n",
       "      <td>0.494556</td>\n",
       "      <td>0.366901</td>\n",
       "      <td>0.587500</td>\n",
       "      <td>0.0</td>\n",
       "      <td>0.544719</td>\n",
       "      <td>0.161422</td>\n",
       "      <td>1.0</td>\n",
       "      <td>0.0</td>\n",
       "      <td>0.0</td>\n",
       "    </tr>\n",
       "    <tr>\n",
       "      <th>1</th>\n",
       "      <td>0.024477</td>\n",
       "      <td>1.000000</td>\n",
       "      <td>1.000000</td>\n",
       "      <td>0.454545</td>\n",
       "      <td>0.890830</td>\n",
       "      <td>1.0</td>\n",
       "      <td>0.076040</td>\n",
       "      <td>0.966372</td>\n",
       "      <td>0.001715</td>\n",
       "      <td>0.296869</td>\n",
       "      <td>...</td>\n",
       "      <td>0.208</td>\n",
       "      <td>0.494137</td>\n",
       "      <td>0.254749</td>\n",
       "      <td>0.907011</td>\n",
       "      <td>0.0</td>\n",
       "      <td>0.140196</td>\n",
       "      <td>0.492855</td>\n",
       "      <td>0.0</td>\n",
       "      <td>1.0</td>\n",
       "      <td>0.0</td>\n",
       "    </tr>\n",
       "    <tr>\n",
       "      <th>2</th>\n",
       "      <td>0.021369</td>\n",
       "      <td>0.333333</td>\n",
       "      <td>0.666667</td>\n",
       "      <td>0.454545</td>\n",
       "      <td>0.326638</td>\n",
       "      <td>0.5</td>\n",
       "      <td>0.269144</td>\n",
       "      <td>0.773711</td>\n",
       "      <td>0.000927</td>\n",
       "      <td>0.297648</td>\n",
       "      <td>...</td>\n",
       "      <td>0.392</td>\n",
       "      <td>0.313233</td>\n",
       "      <td>0.142510</td>\n",
       "      <td>0.074527</td>\n",
       "      <td>0.0</td>\n",
       "      <td>0.564074</td>\n",
       "      <td>0.355375</td>\n",
       "      <td>0.0</td>\n",
       "      <td>1.0</td>\n",
       "      <td>0.0</td>\n",
       "    </tr>\n",
       "    <tr>\n",
       "      <th>3</th>\n",
       "      <td>0.012255</td>\n",
       "      <td>0.333333</td>\n",
       "      <td>0.666667</td>\n",
       "      <td>0.454545</td>\n",
       "      <td>0.455459</td>\n",
       "      <td>0.5</td>\n",
       "      <td>0.343177</td>\n",
       "      <td>0.629829</td>\n",
       "      <td>0.000771</td>\n",
       "      <td>0.005983</td>\n",
       "      <td>...</td>\n",
       "      <td>0.384</td>\n",
       "      <td>0.436767</td>\n",
       "      <td>0.193685</td>\n",
       "      <td>0.536170</td>\n",
       "      <td>0.0</td>\n",
       "      <td>0.580565</td>\n",
       "      <td>0.346178</td>\n",
       "      <td>1.0</td>\n",
       "      <td>0.0</td>\n",
       "      <td>0.0</td>\n",
       "    </tr>\n",
       "    <tr>\n",
       "      <th>4</th>\n",
       "      <td>0.011818</td>\n",
       "      <td>0.333333</td>\n",
       "      <td>0.333333</td>\n",
       "      <td>0.636364</td>\n",
       "      <td>0.211354</td>\n",
       "      <td>0.5</td>\n",
       "      <td>0.300060</td>\n",
       "      <td>0.686613</td>\n",
       "      <td>0.001390</td>\n",
       "      <td>0.006411</td>\n",
       "      <td>...</td>\n",
       "      <td>0.280</td>\n",
       "      <td>0.202680</td>\n",
       "      <td>0.185532</td>\n",
       "      <td>0.328246</td>\n",
       "      <td>0.0</td>\n",
       "      <td>0.413904</td>\n",
       "      <td>0.602933</td>\n",
       "      <td>1.0</td>\n",
       "      <td>0.0</td>\n",
       "      <td>0.0</td>\n",
       "    </tr>\n",
       "    <tr>\n",
       "      <th>...</th>\n",
       "      <td>...</td>\n",
       "      <td>...</td>\n",
       "      <td>...</td>\n",
       "      <td>...</td>\n",
       "      <td>...</td>\n",
       "      <td>...</td>\n",
       "      <td>...</td>\n",
       "      <td>...</td>\n",
       "      <td>...</td>\n",
       "      <td>...</td>\n",
       "      <td>...</td>\n",
       "      <td>...</td>\n",
       "      <td>...</td>\n",
       "      <td>...</td>\n",
       "      <td>...</td>\n",
       "      <td>...</td>\n",
       "      <td>...</td>\n",
       "      <td>...</td>\n",
       "      <td>...</td>\n",
       "      <td>...</td>\n",
       "      <td>...</td>\n",
       "    </tr>\n",
       "    <tr>\n",
       "      <th>22156</th>\n",
       "      <td>0.013912</td>\n",
       "      <td>0.333333</td>\n",
       "      <td>0.666667</td>\n",
       "      <td>0.454545</td>\n",
       "      <td>0.453275</td>\n",
       "      <td>0.5</td>\n",
       "      <td>0.408222</td>\n",
       "      <td>0.772092</td>\n",
       "      <td>0.001340</td>\n",
       "      <td>0.005400</td>\n",
       "      <td>...</td>\n",
       "      <td>0.480</td>\n",
       "      <td>0.434673</td>\n",
       "      <td>0.192818</td>\n",
       "      <td>0.534310</td>\n",
       "      <td>0.0</td>\n",
       "      <td>0.469528</td>\n",
       "      <td>0.422891</td>\n",
       "      <td>1.0</td>\n",
       "      <td>0.0</td>\n",
       "      <td>0.0</td>\n",
       "    </tr>\n",
       "    <tr>\n",
       "      <th>22157</th>\n",
       "      <td>0.021939</td>\n",
       "      <td>0.666667</td>\n",
       "      <td>1.000000</td>\n",
       "      <td>0.454545</td>\n",
       "      <td>0.986900</td>\n",
       "      <td>0.5</td>\n",
       "      <td>0.230682</td>\n",
       "      <td>0.770133</td>\n",
       "      <td>0.000904</td>\n",
       "      <td>0.297642</td>\n",
       "      <td>...</td>\n",
       "      <td>0.384</td>\n",
       "      <td>0.711893</td>\n",
       "      <td>0.283372</td>\n",
       "      <td>0.131659</td>\n",
       "      <td>1.0</td>\n",
       "      <td>0.351378</td>\n",
       "      <td>0.290606</td>\n",
       "      <td>0.0</td>\n",
       "      <td>1.0</td>\n",
       "      <td>0.0</td>\n",
       "    </tr>\n",
       "    <tr>\n",
       "      <th>22158</th>\n",
       "      <td>0.007112</td>\n",
       "      <td>0.333333</td>\n",
       "      <td>0.333333</td>\n",
       "      <td>0.454545</td>\n",
       "      <td>0.219214</td>\n",
       "      <td>0.5</td>\n",
       "      <td>0.477261</td>\n",
       "      <td>0.630094</td>\n",
       "      <td>0.019765</td>\n",
       "      <td>0.001420</td>\n",
       "      <td>...</td>\n",
       "      <td>0.080</td>\n",
       "      <td>0.210218</td>\n",
       "      <td>0.190216</td>\n",
       "      <td>0.334942</td>\n",
       "      <td>0.0</td>\n",
       "      <td>0.411003</td>\n",
       "      <td>0.794560</td>\n",
       "      <td>1.0</td>\n",
       "      <td>0.0</td>\n",
       "      <td>0.0</td>\n",
       "    </tr>\n",
       "    <tr>\n",
       "      <th>22159</th>\n",
       "      <td>0.002819</td>\n",
       "      <td>0.333333</td>\n",
       "      <td>0.333333</td>\n",
       "      <td>0.636364</td>\n",
       "      <td>0.193450</td>\n",
       "      <td>0.5</td>\n",
       "      <td>0.698763</td>\n",
       "      <td>0.478926</td>\n",
       "      <td>0.091468</td>\n",
       "      <td>0.011084</td>\n",
       "      <td>...</td>\n",
       "      <td>0.200</td>\n",
       "      <td>0.185511</td>\n",
       "      <td>0.174863</td>\n",
       "      <td>0.312996</td>\n",
       "      <td>0.0</td>\n",
       "      <td>0.811826</td>\n",
       "      <td>0.446185</td>\n",
       "      <td>1.0</td>\n",
       "      <td>0.0</td>\n",
       "      <td>0.0</td>\n",
       "    </tr>\n",
       "    <tr>\n",
       "      <th>22160</th>\n",
       "      <td>0.042134</td>\n",
       "      <td>0.666667</td>\n",
       "      <td>1.000000</td>\n",
       "      <td>0.454545</td>\n",
       "      <td>0.600000</td>\n",
       "      <td>0.5</td>\n",
       "      <td>0.609925</td>\n",
       "      <td>0.198162</td>\n",
       "      <td>0.001015</td>\n",
       "      <td>0.999947</td>\n",
       "      <td>...</td>\n",
       "      <td>0.136</td>\n",
       "      <td>0.415075</td>\n",
       "      <td>0.168098</td>\n",
       "      <td>0.089090</td>\n",
       "      <td>1.0</td>\n",
       "      <td>0.276541</td>\n",
       "      <td>0.469719</td>\n",
       "      <td>0.0</td>\n",
       "      <td>0.0</td>\n",
       "      <td>1.0</td>\n",
       "    </tr>\n",
       "  </tbody>\n",
       "</table>\n",
       "<p>22161 rows × 28 columns</p>\n",
       "</div>"
      ],
      "text/plain": [
       "       parcelid  bathrooms  bedrooms  condition     sq_ft  full_baths  \\\n",
       "0      0.000849   0.333333  0.333333   0.454545  0.515721         0.5   \n",
       "1      0.024477   1.000000  1.000000   0.454545  0.890830         1.0   \n",
       "2      0.021369   0.333333  0.666667   0.454545  0.326638         0.5   \n",
       "3      0.012255   0.333333  0.666667   0.454545  0.455459         0.5   \n",
       "4      0.011818   0.333333  0.333333   0.636364  0.211354         0.5   \n",
       "...         ...        ...       ...        ...       ...         ...   \n",
       "22156  0.013912   0.333333  0.666667   0.454545  0.453275         0.5   \n",
       "22157  0.021939   0.666667  1.000000   0.454545  0.986900         0.5   \n",
       "22158  0.007112   0.333333  0.333333   0.454545  0.219214         0.5   \n",
       "22159  0.002819   0.333333  0.333333   0.636364  0.193450         0.5   \n",
       "22160  0.042134   0.666667  1.000000   0.454545  0.600000         0.5   \n",
       "\n",
       "       latitude  longitude  lot_size  census_tract  ...    age  \\\n",
       "0      0.573098   0.520347  0.001129      0.000365  ...  0.584   \n",
       "1      0.076040   0.966372  0.001715      0.296869  ...  0.208   \n",
       "2      0.269144   0.773711  0.000927      0.297648  ...  0.392   \n",
       "3      0.343177   0.629829  0.000771      0.005983  ...  0.384   \n",
       "4      0.300060   0.686613  0.001390      0.006411  ...  0.280   \n",
       "...         ...        ...       ...           ...  ...    ...   \n",
       "22156  0.408222   0.772092  0.001340      0.005400  ...  0.480   \n",
       "22157  0.230682   0.770133  0.000904      0.297642  ...  0.384   \n",
       "22158  0.477261   0.630094  0.019765      0.001420  ...  0.080   \n",
       "22159  0.698763   0.478926  0.091468      0.011084  ...  0.200   \n",
       "22160  0.609925   0.198162  0.001015      0.999947  ...  0.136   \n",
       "\n",
       "       sq_ft_per_bathroom  sq_ft_per_bedroom  sq_ft_per_room  has_half_bath  \\\n",
       "0                0.494556           0.366901        0.587500            0.0   \n",
       "1                0.494137           0.254749        0.907011            0.0   \n",
       "2                0.313233           0.142510        0.074527            0.0   \n",
       "3                0.436767           0.193685        0.536170            0.0   \n",
       "4                0.202680           0.185532        0.328246            0.0   \n",
       "...                   ...                ...             ...            ...   \n",
       "22156            0.434673           0.192818        0.534310            0.0   \n",
       "22157            0.711893           0.283372        0.131659            1.0   \n",
       "22158            0.210218           0.190216        0.334942            0.0   \n",
       "22159            0.185511           0.174863        0.312996            0.0   \n",
       "22160            0.415075           0.168098        0.089090            1.0   \n",
       "\n",
       "       tax_rate  price_per_sq_ft  Los_Angeles  Orange  Ventura  \n",
       "0      0.544719         0.161422          1.0     0.0      0.0  \n",
       "1      0.140196         0.492855          0.0     1.0      0.0  \n",
       "2      0.564074         0.355375          0.0     1.0      0.0  \n",
       "3      0.580565         0.346178          1.0     0.0      0.0  \n",
       "4      0.413904         0.602933          1.0     0.0      0.0  \n",
       "...         ...              ...          ...     ...      ...  \n",
       "22156  0.469528         0.422891          1.0     0.0      0.0  \n",
       "22157  0.351378         0.290606          0.0     1.0      0.0  \n",
       "22158  0.411003         0.794560          1.0     0.0      0.0  \n",
       "22159  0.811826         0.446185          1.0     0.0      0.0  \n",
       "22160  0.276541         0.469719          0.0     0.0      1.0  \n",
       "\n",
       "[22161 rows x 28 columns]"
      ]
     },
     "execution_count": 3,
     "metadata": {},
     "output_type": "execute_result"
    }
   ],
   "source": [
    "X_train_scaled"
   ]
  },
  {
   "cell_type": "markdown",
   "id": "d0f94c33",
   "metadata": {},
   "source": [
    "# CLUSTERING ON THE FOLLOWING VARIABLES:\n",
    "- sq_ft, price_per_sq_ft, tax_rate\n"
   ]
  },
  {
   "cell_type": "code",
   "execution_count": 4,
   "id": "30c93772",
   "metadata": {},
   "outputs": [],
   "source": [
    "# X_train_scaled.head().T"
   ]
  },
  {
   "cell_type": "markdown",
   "id": "ca0d286d",
   "metadata": {},
   "source": [
    "Step 1: get your k"
   ]
  },
  {
   "cell_type": "code",
   "execution_count": 5,
   "id": "f1e0fe28",
   "metadata": {},
   "outputs": [],
   "source": [
    "# list of variables I will cluster on. \n",
    "cluster_vars = ['sq_ft', 'price_per_sq_ft', 'tax_rate']\n",
    "cluster_name = 'good_deal_or_not_?'\n",
    "k_range = range(2,20)"
   ]
  },
  {
   "cell_type": "code",
   "execution_count": 6,
   "id": "9aba6968",
   "metadata": {},
   "outputs": [
    {
     "data": {
      "image/png": "[encoded data removed]",
      "text/plain": [
       "<Figure size 432x288 with 1 Axes>"
      ]
     },
     "metadata": {
      "needs_background": "light"
     },
     "output_type": "display_data"
    },
    {
     "data": {
      "image/png": "[encoded data removed]",
      "text/plain": [
       "<Figure size 432x288 with 1 Axes>"
      ]
     },
     "metadata": {
      "needs_background": "light"
     },
     "output_type": "display_data"
    },
    {
     "data": {
      "image/png": "[encoded data removed]",
      "text/plain": [
       "<Figure size 432x288 with 1 Axes>"
      ]
     },
     "metadata": {
      "needs_background": "light"
     },
     "output_type": "display_data"
    },
    {
     "data": {
      "text/html": [
       "<div>\n",
       "<style scoped>\n",
       "    .dataframe tbody tr th:only-of-type {\n",
       "        vertical-align: middle;\n",
       "    }\n",
       "\n",
       "    .dataframe tbody tr th {\n",
       "        vertical-align: top;\n",
       "    }\n",
       "\n",
       "    .dataframe thead th {\n",
       "        text-align: right;\n",
       "    }\n",
       "</style>\n",
       "<table border=\"1\" class=\"dataframe\">\n",
       "  <thead>\n",
       "    <tr style=\"text-align: right;\">\n",
       "      <th></th>\n",
       "      <th>k</th>\n",
       "      <th>sse</th>\n",
       "      <th>delta</th>\n",
       "      <th>pct_delta</th>\n",
       "    </tr>\n",
       "  </thead>\n",
       "  <tbody>\n",
       "    <tr>\n",
       "      <th>0</th>\n",
       "      <td>2</td>\n",
       "      <td>1757.354604</td>\n",
       "      <td>433.0</td>\n",
       "      <td>24.6</td>\n",
       "    </tr>\n",
       "    <tr>\n",
       "      <th>1</th>\n",
       "      <td>3</td>\n",
       "      <td>1324.618620</td>\n",
       "      <td>261.0</td>\n",
       "      <td>19.7</td>\n",
       "    </tr>\n",
       "    <tr>\n",
       "      <th>2</th>\n",
       "      <td>4</td>\n",
       "      <td>1063.283311</td>\n",
       "      <td>121.0</td>\n",
       "      <td>11.4</td>\n",
       "    </tr>\n",
       "    <tr>\n",
       "      <th>3</th>\n",
       "      <td>5</td>\n",
       "      <td>942.270750</td>\n",
       "      <td>90.0</td>\n",
       "      <td>9.5</td>\n",
       "    </tr>\n",
       "    <tr>\n",
       "      <th>4</th>\n",
       "      <td>6</td>\n",
       "      <td>852.387259</td>\n",
       "      <td>78.0</td>\n",
       "      <td>9.2</td>\n",
       "    </tr>\n",
       "    <tr>\n",
       "      <th>5</th>\n",
       "      <td>7</td>\n",
       "      <td>774.064491</td>\n",
       "      <td>65.0</td>\n",
       "      <td>8.4</td>\n",
       "    </tr>\n",
       "    <tr>\n",
       "      <th>6</th>\n",
       "      <td>8</td>\n",
       "      <td>709.235135</td>\n",
       "      <td>61.0</td>\n",
       "      <td>8.6</td>\n",
       "    </tr>\n",
       "    <tr>\n",
       "      <th>7</th>\n",
       "      <td>9</td>\n",
       "      <td>648.486127</td>\n",
       "      <td>49.0</td>\n",
       "      <td>7.6</td>\n",
       "    </tr>\n",
       "    <tr>\n",
       "      <th>8</th>\n",
       "      <td>10</td>\n",
       "      <td>599.231533</td>\n",
       "      <td>34.0</td>\n",
       "      <td>5.7</td>\n",
       "    </tr>\n",
       "    <tr>\n",
       "      <th>9</th>\n",
       "      <td>11</td>\n",
       "      <td>565.252370</td>\n",
       "      <td>34.0</td>\n",
       "      <td>6.0</td>\n",
       "    </tr>\n",
       "    <tr>\n",
       "      <th>10</th>\n",
       "      <td>12</td>\n",
       "      <td>531.103101</td>\n",
       "      <td>26.0</td>\n",
       "      <td>4.9</td>\n",
       "    </tr>\n",
       "    <tr>\n",
       "      <th>11</th>\n",
       "      <td>13</td>\n",
       "      <td>505.013371</td>\n",
       "      <td>23.0</td>\n",
       "      <td>4.6</td>\n",
       "    </tr>\n",
       "    <tr>\n",
       "      <th>12</th>\n",
       "      <td>14</td>\n",
       "      <td>481.707135</td>\n",
       "      <td>24.0</td>\n",
       "      <td>4.9</td>\n",
       "    </tr>\n",
       "    <tr>\n",
       "      <th>13</th>\n",
       "      <td>15</td>\n",
       "      <td>457.862939</td>\n",
       "      <td>19.0</td>\n",
       "      <td>4.1</td>\n",
       "    </tr>\n",
       "    <tr>\n",
       "      <th>14</th>\n",
       "      <td>16</td>\n",
       "      <td>438.978840</td>\n",
       "      <td>17.0</td>\n",
       "      <td>3.9</td>\n",
       "    </tr>\n",
       "    <tr>\n",
       "      <th>15</th>\n",
       "      <td>17</td>\n",
       "      <td>422.020185</td>\n",
       "      <td>16.0</td>\n",
       "      <td>3.8</td>\n",
       "    </tr>\n",
       "    <tr>\n",
       "      <th>16</th>\n",
       "      <td>18</td>\n",
       "      <td>406.173170</td>\n",
       "      <td>14.0</td>\n",
       "      <td>3.4</td>\n",
       "    </tr>\n",
       "  </tbody>\n",
       "</table>\n",
       "</div>"
      ],
      "text/plain": [
       "     k          sse  delta  pct_delta\n",
       "0    2  1757.354604  433.0       24.6\n",
       "1    3  1324.618620  261.0       19.7\n",
       "2    4  1063.283311  121.0       11.4\n",
       "3    5   942.270750   90.0        9.5\n",
       "4    6   852.387259   78.0        9.2\n",
       "5    7   774.064491   65.0        8.4\n",
       "6    8   709.235135   61.0        8.6\n",
       "7    9   648.486127   49.0        7.6\n",
       "8   10   599.231533   34.0        5.7\n",
       "9   11   565.252370   34.0        6.0\n",
       "10  12   531.103101   26.0        4.9\n",
       "11  13   505.013371   23.0        4.6\n",
       "12  14   481.707135   24.0        4.9\n",
       "13  15   457.862939   19.0        4.1\n",
       "14  16   438.978840   17.0        3.9\n",
       "15  17   422.020185   16.0        3.8\n",
       "16  18   406.173170   14.0        3.4"
      ]
     },
     "execution_count": 6,
     "metadata": {},
     "output_type": "execute_result"
    }
   ],
   "source": [
    "model.find_k(X_train_scaled, cluster_vars, k_range)"
   ]
  },
  {
   "cell_type": "markdown",
   "id": "524531ba",
   "metadata": {},
   "source": [
    "# Looks like k=5 seems happy"
   ]
  },
  {
   "cell_type": "code",
   "execution_count": 7,
   "id": "5089a197",
   "metadata": {},
   "outputs": [],
   "source": [
    "k = 5"
   ]
  },
  {
   "cell_type": "markdown",
   "id": "6eef1b3b",
   "metadata": {},
   "source": [
    "Step 2: create kmeans object and fit"
   ]
  },
  {
   "cell_type": "code",
   "execution_count": 8,
   "id": "a09e01f5",
   "metadata": {},
   "outputs": [],
   "source": [
    "kmeans = model.create_clusters(X_train_scaled, k, cluster_vars)"
   ]
  },
  {
   "cell_type": "markdown",
   "id": "72fcb745",
   "metadata": {},
   "source": [
    "Step 3: get centroids"
   ]
  },
  {
   "cell_type": "code",
   "execution_count": 9,
   "id": "db55ae2f",
   "metadata": {},
   "outputs": [],
   "source": [
    "centroid_df = model.get_centroids(kmeans, cluster_vars, cluster_name)"
   ]
  },
  {
   "cell_type": "markdown",
   "id": "1be00986",
   "metadata": {},
   "source": [
    "Step 4: label observations and append to EACH?? X dataframe : ("
   ]
  },
  {
   "cell_type": "code",
   "execution_count": 10,
   "id": "a972451d",
   "metadata": {},
   "outputs": [],
   "source": [
    "test_df = X_train_scaled.copy()"
   ]
  },
  {
   "cell_type": "code",
   "execution_count": 11,
   "id": "fc40b867",
   "metadata": {},
   "outputs": [
    {
     "data": {
      "text/html": [
       "<div>\n",
       "<style scoped>\n",
       "    .dataframe tbody tr th:only-of-type {\n",
       "        vertical-align: middle;\n",
       "    }\n",
       "\n",
       "    .dataframe tbody tr th {\n",
       "        vertical-align: top;\n",
       "    }\n",
       "\n",
       "    .dataframe thead th {\n",
       "        text-align: right;\n",
       "    }\n",
       "</style>\n",
       "<table border=\"1\" class=\"dataframe\">\n",
       "  <thead>\n",
       "    <tr style=\"text-align: right;\">\n",
       "      <th></th>\n",
       "      <th>good_deal_or_not_?</th>\n",
       "      <th>centroid_sq_ft</th>\n",
       "      <th>centroid_price_per_sq_ft</th>\n",
       "      <th>centroid_tax_rate</th>\n",
       "    </tr>\n",
       "  </thead>\n",
       "  <tbody>\n",
       "    <tr>\n",
       "      <th>0</th>\n",
       "      <td>0</td>\n",
       "      <td>0.355665</td>\n",
       "      <td>0.353695</td>\n",
       "      <td>0.480207</td>\n",
       "    </tr>\n",
       "    <tr>\n",
       "      <th>1</th>\n",
       "      <td>1</td>\n",
       "      <td>0.729038</td>\n",
       "      <td>0.468711</td>\n",
       "      <td>0.396755</td>\n",
       "    </tr>\n",
       "    <tr>\n",
       "      <th>2</th>\n",
       "      <td>2</td>\n",
       "      <td>0.396411</td>\n",
       "      <td>0.458085</td>\n",
       "      <td>0.224684</td>\n",
       "    </tr>\n",
       "    <tr>\n",
       "      <th>3</th>\n",
       "      <td>3</td>\n",
       "      <td>0.347529</td>\n",
       "      <td>0.690335</td>\n",
       "      <td>0.464534</td>\n",
       "    </tr>\n",
       "    <tr>\n",
       "      <th>4</th>\n",
       "      <td>4</td>\n",
       "      <td>0.515540</td>\n",
       "      <td>0.300010</td>\n",
       "      <td>0.784879</td>\n",
       "    </tr>\n",
       "  </tbody>\n",
       "</table>\n",
       "</div>"
      ],
      "text/plain": [
       "   good_deal_or_not_?  centroid_sq_ft  centroid_price_per_sq_ft  \\\n",
       "0                   0        0.355665                  0.353695   \n",
       "1                   1        0.729038                  0.468711   \n",
       "2                   2        0.396411                  0.458085   \n",
       "3                   3        0.347529                  0.690335   \n",
       "4                   4        0.515540                  0.300010   \n",
       "\n",
       "   centroid_tax_rate  \n",
       "0           0.480207  \n",
       "1           0.396755  \n",
       "2           0.224684  \n",
       "3           0.464534  \n",
       "4           0.784879  "
      ]
     },
     "execution_count": 11,
     "metadata": {},
     "output_type": "execute_result"
    }
   ],
   "source": [
    "centroid_df"
   ]
  },
  {
   "cell_type": "code",
   "execution_count": 12,
   "id": "388b97af",
   "metadata": {},
   "outputs": [],
   "source": [
    "# label cluster for each observation in X_train (X[0] in our X list of dataframes), \n",
    "# X_validate (X[1]), & X_test (X[2])\n",
    "\n",
    "def assign_clusters(kmeans, cluster_vars, cluster_name, centroid_df):\n",
    "    for i in range(len([X_train_scaled,X_validate_scaled,X_test_scaled])):\n",
    "        clusters = pd.DataFrame(kmeans.predict([X_train_scaled,X_validate_scaled,X_test_scaled][i][cluster_vars]), \n",
    "                            columns=[cluster_name], index=[X_train_scaled,X_validate_scaled,X_test_scaled][i].index)\n",
    "\n",
    "        clusters_centroids = clusters.merge(centroid_df, on=cluster_name, copy=False).set_index(clusters.index.values)\n",
    "\n",
    "        [X_train_scaled,X_validate_scaled,X_test_scaled][i] = pd.concat([[X_train_scaled,X_validate_scaled,X_test_scaled][i], clusters_centroids], axis=1)\n",
    "    return X_train_scaled,X_validate_scaled,X_test_scaled"
   ]
  },
  {
   "cell_type": "code",
   "execution_count": 13,
   "id": "c92e45a8",
   "metadata": {},
   "outputs": [],
   "source": [
    "X_train_scaled,X_validate_scaled,X_test_scaled = assign_clusters(kmeans, cluster_vars, cluster_name, centroid_df)"
   ]
  },
  {
   "cell_type": "markdown",
   "id": "bca4855e",
   "metadata": {},
   "source": [
    "## I'm having an awful hard time getting the above to work, so I'm going to try another method...."
   ]
  },
  {
   "cell_type": "code",
   "execution_count": 14,
   "id": "2bb5d1af",
   "metadata": {},
   "outputs": [],
   "source": [
    "# define independent variables for k-means\n",
    "\n",
    "deal_cluster_df = X_train_scaled[['sq_ft', 'price_per_sq_ft', 'tax_rate']]"
   ]
  },
  {
   "cell_type": "code",
   "execution_count": 15,
   "id": "926c1e8b",
   "metadata": {},
   "outputs": [
    {
     "data": {
      "text/plain": [
       "array([[<AxesSubplot:title={'center':'sq_ft'}>,\n",
       "        <AxesSubplot:title={'center':'price_per_sq_ft'}>],\n",
       "       [<AxesSubplot:title={'center':'tax_rate'}>, <AxesSubplot:>]],\n",
       "      dtype=object)"
      ]
     },
     "execution_count": 15,
     "metadata": {},
     "output_type": "execute_result"
    },
    {
     "data": {
      "image/png": "[encoded data removed]",
      "text/plain": [
       "<Figure size 432x288 with 4 Axes>"
      ]
     },
     "metadata": {
      "needs_background": "light"
     },
     "output_type": "display_data"
    }
   ],
   "source": [
    "deal_cluster_df.hist()"
   ]
  },
  {
   "cell_type": "markdown",
   "id": "925384eb",
   "metadata": {},
   "source": [
    "### cluster_df is already scaled"
   ]
  },
  {
   "cell_type": "code",
   "execution_count": 16,
   "id": "85c154ad",
   "metadata": {},
   "outputs": [
    {
     "data": {
      "text/html": [
       "<div>\n",
       "<style scoped>\n",
       "    .dataframe tbody tr th:only-of-type {\n",
       "        vertical-align: middle;\n",
       "    }\n",
       "\n",
       "    .dataframe tbody tr th {\n",
       "        vertical-align: top;\n",
       "    }\n",
       "\n",
       "    .dataframe thead th {\n",
       "        text-align: right;\n",
       "    }\n",
       "</style>\n",
       "<table border=\"1\" class=\"dataframe\">\n",
       "  <thead>\n",
       "    <tr style=\"text-align: right;\">\n",
       "      <th></th>\n",
       "      <th>sq_ft</th>\n",
       "      <th>price_per_sq_ft</th>\n",
       "      <th>tax_rate</th>\n",
       "    </tr>\n",
       "  </thead>\n",
       "  <tbody>\n",
       "    <tr>\n",
       "      <th>count</th>\n",
       "      <td>22161.000000</td>\n",
       "      <td>22161.000000</td>\n",
       "      <td>22161.000000</td>\n",
       "    </tr>\n",
       "    <tr>\n",
       "      <th>mean</th>\n",
       "      <td>0.458257</td>\n",
       "      <td>0.461773</td>\n",
       "      <td>0.461108</td>\n",
       "    </tr>\n",
       "    <tr>\n",
       "      <th>std</th>\n",
       "      <td>0.192961</td>\n",
       "      <td>0.185600</td>\n",
       "      <td>0.184500</td>\n",
       "    </tr>\n",
       "    <tr>\n",
       "      <th>min</th>\n",
       "      <td>0.000000</td>\n",
       "      <td>0.000000</td>\n",
       "      <td>0.000000</td>\n",
       "    </tr>\n",
       "    <tr>\n",
       "      <th>25%</th>\n",
       "      <td>0.310917</td>\n",
       "      <td>0.325836</td>\n",
       "      <td>0.354157</td>\n",
       "    </tr>\n",
       "    <tr>\n",
       "      <th>50%</th>\n",
       "      <td>0.426201</td>\n",
       "      <td>0.452259</td>\n",
       "      <td>0.446139</td>\n",
       "    </tr>\n",
       "    <tr>\n",
       "      <th>75%</th>\n",
       "      <td>0.579039</td>\n",
       "      <td>0.584635</td>\n",
       "      <td>0.543354</td>\n",
       "    </tr>\n",
       "    <tr>\n",
       "      <th>max</th>\n",
       "      <td>1.000000</td>\n",
       "      <td>1.000000</td>\n",
       "      <td>1.000000</td>\n",
       "    </tr>\n",
       "  </tbody>\n",
       "</table>\n",
       "</div>"
      ],
      "text/plain": [
       "              sq_ft  price_per_sq_ft      tax_rate\n",
       "count  22161.000000     22161.000000  22161.000000\n",
       "mean       0.458257         0.461773      0.461108\n",
       "std        0.192961         0.185600      0.184500\n",
       "min        0.000000         0.000000      0.000000\n",
       "25%        0.310917         0.325836      0.354157\n",
       "50%        0.426201         0.452259      0.446139\n",
       "75%        0.579039         0.584635      0.543354\n",
       "max        1.000000         1.000000      1.000000"
      ]
     },
     "execution_count": 16,
     "metadata": {},
     "output_type": "execute_result"
    }
   ],
   "source": [
    "deal_cluster_df.describe()"
   ]
  },
  {
   "cell_type": "code",
   "execution_count": 17,
   "id": "fb45fa37",
   "metadata": {},
   "outputs": [
    {
     "data": {
      "text/plain": [
       "array([0, 4, 0, ..., 1, 3, 4], dtype=int32)"
      ]
     },
     "execution_count": 17,
     "metadata": {},
     "output_type": "execute_result"
    }
   ],
   "source": [
    "# sklearn implementation of KMeans\n",
    "\n",
    "#define the thing\n",
    "kmeans_deal_cluster_df = KMeans(n_clusters=5, random_state = 123, verbose = 0)\n",
    "\n",
    "# fit the thing\n",
    "kmeans_deal_cluster_df.fit(deal_cluster_df)\n",
    "\n",
    "# Use (predict using) the thing \n",
    "kmeans_deal_cluster_df.predict(deal_cluster_df)"
   ]
  },
  {
   "cell_type": "code",
   "execution_count": 18,
   "id": "ee473c1b",
   "metadata": {},
   "outputs": [],
   "source": [
    "# deal_cluster_df.cluster.value_counts()"
   ]
  },
  {
   "cell_type": "code",
   "execution_count": 19,
   "id": "485a3fcc",
   "metadata": {},
   "outputs": [
    {
     "data": {
      "text/plain": [
       "['sq_ft', 'price_per_sq_ft', 'tax_rate']"
      ]
     },
     "execution_count": 19,
     "metadata": {},
     "output_type": "execute_result"
    }
   ],
   "source": [
    "cluster_vars"
   ]
  },
  {
   "cell_type": "code",
   "execution_count": 20,
   "id": "8dedc038",
   "metadata": {},
   "outputs": [],
   "source": [
    "import re, seaborn as sns\n",
    "import numpy as np\n",
    "# from matplotlib import pyplot as plt\n",
    "from mpl_toolkits.mplot3d import Axes3D\n",
    "from matplotlib.colors import ListedColormap\n",
    "# from sklearn import *"
   ]
  },
  {
   "cell_type": "code",
   "execution_count": 21,
   "id": "66284e3f",
   "metadata": {
    "scrolled": true
   },
   "outputs": [
    {
     "data": {
      "text/plain": [
       "<matplotlib.legend.Legend at 0x7fe7b32247f0>"
      ]
     },
     "execution_count": 21,
     "metadata": {},
     "output_type": "execute_result"
    },
    {
     "data": {
      "image/png": "[encoded data removed]",
      "text/plain": [
       "<Figure size 432x432 with 1 Axes>"
      ]
     },
     "metadata": {
      "needs_background": "light"
     },
     "output_type": "display_data"
    }
   ],
   "source": [
    "\n",
    "\n",
    "\n",
    "# The following command will make the graphic interactive\n",
    "# but it creates problems for subsequent graphics and should be commented out \n",
    "# until it's being used\n",
    "\n",
    "# %matplotlib notebook\n",
    "\n",
    "\n",
    "\n",
    "# assigning the graphing data\n",
    "x = deal_cluster_df.sq_ft\n",
    "y = deal_cluster_df.price_per_sq_ft\n",
    "z = deal_cluster_df.tax_rate\n",
    "# axes instance\n",
    "fig = plt.figure(figsize=(6,6))\n",
    "ax = Axes3D(fig)\n",
    "fig.add_axes(ax)\n",
    "# get colormap from seaborn\n",
    "# cmap = ListedColormap(sns.color_palette(\"husl\", 256).as_hex())\n",
    "t = kmeans_deal_cluster_df.predict(deal_cluster_df)\n",
    "# plot\n",
    "# the x,y,z labels might need to be specific...\n",
    "sc = ax.scatter(x, y, z, s=40, c=t, marker='o')#, cmap=t, alpha=1)\n",
    "ax.set_xlabel('sq_ft')\n",
    "ax.set_ylabel('price_per_sq_ft')\n",
    "ax.set_zlabel('tax_rate')\n",
    "# legend\n",
    "plt.legend(*sc.legend_elements(), bbox_to_anchor=(1.05, 1), loc=2)\n",
    "\n",
    "# save\n",
    "# plt.savefig(\"scatter_hue\", bbox_inches='tight')"
   ]
  },
  {
   "cell_type": "code",
   "execution_count": 22,
   "id": "28d16093",
   "metadata": {},
   "outputs": [],
   "source": [
    "# make a new column names cluster in iris and X_scaled dataframe\n",
    "\n",
    "X_train_scaled['cluster'] = kmeans_deal_cluster_df.predict(deal_cluster_df)\n",
    "\n",
    "deal_cluster_df['cluster'] = kmeans_deal_cluster_df.predict(deal_cluster_df)"
   ]
  },
  {
   "cell_type": "markdown",
   "id": "3f33a934",
   "metadata": {},
   "source": [
    "...Now things seem to be working all of a sudden...but i have to run the cells twice (beginning with the one where i define kmeans_deal_cluster_df"
   ]
  },
  {
   "cell_type": "markdown",
   "id": "8c3eba4d",
   "metadata": {},
   "source": [
    "- 3. green: small and expensive.  all tax rates\n",
    "- 0. purple: large, represented across all other variables\n",
    "- 2. sea green: small and cheap, low tax rate\n",
    "- 4. yellow: small and cheap,  middle tax rates\n",
    "- 1. lavender: small to medium and cheaper, high tax rates"
   ]
  },
  {
   "cell_type": "code",
   "execution_count": 23,
   "id": "599d0f76",
   "metadata": {},
   "outputs": [],
   "source": [
    "X_train['cluster'] = kmeans_deal_cluster_df.predict(deal_cluster_df.drop(columns=['cluster']))"
   ]
  },
  {
   "cell_type": "code",
   "execution_count": 24,
   "id": "cfd8e073",
   "metadata": {},
   "outputs": [],
   "source": [
    "train['cluster'] = kmeans_deal_cluster_df.predict(deal_cluster_df.drop(columns=['cluster']))"
   ]
  },
  {
   "cell_type": "code",
   "execution_count": 25,
   "id": "830dcc6e",
   "metadata": {},
   "outputs": [
    {
     "data": {
      "text/plain": [
       "<AxesSubplot:xlabel='county', ylabel='logerror'>"
      ]
     },
     "execution_count": 25,
     "metadata": {},
     "output_type": "execute_result"
    },
    {
     "data": {
      "image/png": "[encoded data removed]",
      "text/plain": [
       "<Figure size 432x288 with 1 Axes>"
      ]
     },
     "metadata": {
      "needs_background": "light"
     },
     "output_type": "display_data"
    }
   ],
   "source": [
    "sns.barplot(x='county',y=train['logerror'].abs(),data=train)"
   ]
  },
  {
   "cell_type": "markdown",
   "id": "6845f140",
   "metadata": {},
   "source": [
    "Los_Angeles county has the worst logerror overall, though we're talking about small margins"
   ]
  },
  {
   "cell_type": "code",
   "execution_count": 26,
   "id": "305f1d5b",
   "metadata": {},
   "outputs": [
    {
     "data": {
      "text/plain": [
       "<AxesSubplot:xlabel='county', ylabel='logerror'>"
      ]
     },
     "execution_count": 26,
     "metadata": {},
     "output_type": "execute_result"
    },
    {
     "data": {
      "image/png": "[encoded data removed]",
      "text/plain": [
       "<Figure size 432x288 with 1 Axes>"
      ]
     },
     "metadata": {
      "needs_background": "light"
     },
     "output_type": "display_data"
    }
   ],
   "source": [
    "sns.barplot(x='county',y=df['logerror'].abs(),data=train,hue='cluster')"
   ]
  },
  {
   "cell_type": "markdown",
   "id": "d714d50f",
   "metadata": {},
   "source": [
    "- Group 3 consistently has the least logerror, in all counties. That's small, expensive homes in all tax rates\n",
    "- Group 2 (small and cheap, low taxes) is also consistently low, although things work differently in Ventura\n",
    "    - In Ventura county, Group 0 (large homes in all price and tax ranges) have the lowest logerror"
   ]
  },
  {
   "cell_type": "markdown",
   "id": "bbab66e3",
   "metadata": {},
   "source": [
    "### Anova testing is called for here:"
   ]
  },
  {
   "cell_type": "markdown",
   "id": "66fdeaff",
   "metadata": {},
   "source": [
    "### first...let's give these columns names and add to the train df"
   ]
  },
  {
   "cell_type": "markdown",
   "id": "ce49faf1",
   "metadata": {},
   "source": [
    "3 green: small and expensive. all tax rates\n",
    "0 purple: large, represented across all other variables\n",
    "2 sea green: small and cheap, low tax rate\n",
    "4 yellow: small and cheap, middle tax rates\n",
    "1 lavender: small to medium and cheaper, high tax rates\n",
    "\n",
    "\n",
    "    df['county'] = np.where(df.fips == 6037, 'Los_Angeles',\n",
    "                           np.where(df.fips == 6059, 'Orange', \n",
    "                                   'Ventura'))    \n",
    "                                   "
   ]
  },
  {
   "cell_type": "code",
   "execution_count": 34,
   "id": "0f2b1ac4",
   "metadata": {},
   "outputs": [],
   "source": [
    "train['cluster'] = np.where(train.cluster == 0,'large_homes',np.where(train.cluster == 1,'small_to_med_cheaper',np.where(train.cluster == 2, 'small_cheap_lowtax',np.where(train.cluster == 3,'small_expensive','small_cheap_midtax'))))\n"
   ]
  },
  {
   "cell_type": "code",
   "execution_count": 36,
   "id": "e8f5989b",
   "metadata": {},
   "outputs": [
    {
     "data": {
      "text/plain": [
       "large_homes             6549\n",
       "small_to_med_cheaper    4977\n",
       "small_cheap_midtax      4630\n",
       "small_cheap_lowtax      3144\n",
       "small_expensive         2861\n",
       "Name: cluster, dtype: int64"
      ]
     },
     "execution_count": 36,
     "metadata": {},
     "output_type": "execute_result"
    }
   ],
   "source": [
    "train.cluster.value_counts()"
   ]
  },
  {
   "cell_type": "code",
   "execution_count": null,
   "id": "44079035",
   "metadata": {},
   "outputs": [],
   "source": []
  }
 ],
 "metadata": {
  "kernelspec": {
   "display_name": "Python 3",
   "language": "python",
   "name": "python3"
  },
  "language_info": {
   "codemirror_mode": {
    "name": "ipython",
    "version": 3
   },
   "file_extension": ".py",
   "mimetype": "text/x-python",
   "name": "python",
   "nbconvert_exporter": "python",
   "pygments_lexer": "ipython3",
   "version": "3.8.8"
  }
 },
 "nbformat": 4,
 "nbformat_minor": 5
}
